{
 "cells": [
  {
   "cell_type": "code",
   "execution_count": 1,
   "metadata": {},
   "outputs": [],
   "source": [
    "import pandas as pd"
   ]
  },
  {
   "cell_type": "code",
   "execution_count": 2,
   "metadata": {},
   "outputs": [],
   "source": [
    "df_trump = pd.read_csv(\"../data/trump_tweets_preprocessed.csv\")\n",
    "df_biden = pd.read_csv(\"../data/biden_tweets_preprocessed.csv\")"
   ]
  },
  {
   "cell_type": "code",
   "execution_count": 3,
   "metadata": {},
   "outputs": [],
   "source": [
    "# making strings to datetime objects and removing the seconds\n",
    "df_biden['timestamp'] = pd.to_datetime(df_biden['created_at']).dt.strftime('%Y-%m-%d %H:%M')\n",
    "df_trump['timestamp'] = pd.to_datetime(df_trump['created_at']).dt.strftime('%Y-%m-%d %H:%M')"
   ]
  },
  {
   "cell_type": "code",
   "execution_count": 4,
   "metadata": {},
   "outputs": [],
   "source": [
    "# taking only tweet time and sentiment score, then aggregating per time (min)\n",
    "df_biden_per_min = df_biden[['timestamp','sentiment_score']].groupby(\"timestamp\").describe()\n",
    "df_trump_per_min = df_trump[['timestamp','sentiment_score']].groupby(\"timestamp\").describe()"
   ]
  },
  {
   "cell_type": "code",
   "execution_count": 5,
   "metadata": {},
   "outputs": [],
   "source": [
    "# keeping only mean, max and min sentiment for each minute\n",
    "trump_sentiment_min = df_trump_per_min['sentiment_score'][['count','mean','max','min']]\n",
    "biden_sentiment_min = df_biden_per_min['sentiment_score'][['count','mean','max','min']]"
   ]
  },
  {
   "cell_type": "code",
   "execution_count": 6,
   "metadata": {},
   "outputs": [],
   "source": [
    "# making the column names more explicit\n",
    "biden_sentiment_min = biden_sentiment_min.rename(columns={\"count\":\"tweets\",\"mean\":\"mean_sentiment\",\"max\":\"max_sentiment\",\"min\":\"min_sentiment\"})\n",
    "trump_sentiment_min = trump_sentiment_min.rename(columns={\"count\":\"tweets\",\"mean\":\"mean_sentiment\",\"max\":\"max_sentiment\",\"min\":\"min_sentiment\"})\n",
    "\n",
    "biden_sentiment_min = biden_sentiment_min.reset_index()\n",
    "trump_sentiment_min = trump_sentiment_min.reset_index()"
   ]
  },
  {
   "cell_type": "code",
   "execution_count": 7,
   "metadata": {},
   "outputs": [],
   "source": [
    "# saving the dataframes as .csv files\n",
    "trump_sentiment_min.to_csv(\"../data/trump_tweets_per_min.csv\", index=False)\n",
    "biden_sentiment_min.to_csv(\"../data/biden_tweets_per_min.csv\", index=False)"
   ]
  },
  {
   "cell_type": "markdown",
   "metadata": {},
   "source": [
    "## New stuff - final per minute csv's"
   ]
  },
  {
   "cell_type": "code",
   "execution_count": 8,
   "metadata": {},
   "outputs": [],
   "source": [
    "trump = pd.read_csv(\"../data/trump_tweets_per_min.csv\", parse_dates=['timestamp'])\n",
    "biden = pd.read_csv(\"../data/biden_tweets_per_min.csv\", parse_dates=['timestamp'])"
   ]
  },
  {
   "cell_type": "code",
   "execution_count": 9,
   "metadata": {},
   "outputs": [],
   "source": [
    "trump_before = trump[trump['timestamp'] < pd.Timestamp('2020-10-22 21:00')]\n",
    "biden_before = biden[biden['timestamp'] < pd.Timestamp('2020-10-22 21:00')]\n",
    "trump_after = trump[trump['timestamp'] >= pd.Timestamp('2020-10-22 21:00')].reset_index(drop=True)\n",
    "biden_after = biden[biden['timestamp'] >= pd.Timestamp('2020-10-22 21:00')].reset_index(drop=True)"
   ]
  },
  {
   "cell_type": "code",
   "execution_count": 10,
   "metadata": {},
   "outputs": [],
   "source": [
    "interrupt = pd.read_csv('../data/interruptions_per_minute_adjusted.csv', parse_dates=['timestamp'])\n",
    "interrupt = interrupt.drop(['minute', 'part', 'timestamp'], axis = 1)"
   ]
  },
  {
   "cell_type": "code",
   "execution_count": 11,
   "metadata": {},
   "outputs": [],
   "source": [
    "trump_final = pd.concat([trump_after, interrupt], axis = 1)\n",
    "biden_final = pd.concat([biden_after, interrupt], axis = 1)"
   ]
  },
  {
   "cell_type": "code",
   "execution_count": 12,
   "metadata": {},
   "outputs": [],
   "source": [
    "trump_final.to_csv(\"../data/trump_sentiment_interruption_per_minute.csv\", index = False)\n",
    "biden_final.to_csv(\"../data/biden_sentiment_interruption_per_minute.csv\", index = False)"
   ]
  }
 ],
 "metadata": {
  "kernelspec": {
   "name": "python3",
   "display_name": "Python 3.8.7 64-bit ('venv': venv)",
   "metadata": {
    "interpreter": {
     "hash": "7593c71ad3a1cd6d4124cd899035bfe4ab01dfe957e46b1956bb12e5bfcdc692"
    }
   }
  },
  "language_info": {
   "codemirror_mode": {
    "name": "ipython",
    "version": 3
   },
   "file_extension": ".py",
   "mimetype": "text/x-python",
   "name": "python",
   "nbconvert_exporter": "python",
   "pygments_lexer": "ipython3",
   "version": "3.8.7-final"
  }
 },
 "nbformat": 4,
 "nbformat_minor": 2
}