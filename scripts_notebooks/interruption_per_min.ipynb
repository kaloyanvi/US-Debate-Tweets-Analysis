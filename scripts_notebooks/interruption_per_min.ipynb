{
 "cells": [
  {
   "cell_type": "code",
   "execution_count": 1,
   "metadata": {
    "scrolled": true,
    "tags": []
   },
   "outputs": [
    {
     "output_type": "stream",
     "name": "stderr",
     "text": [
      "[nltk_data] Downloading package stopwords to\n[nltk_data]     /home/kaloyanv/nltk_data...\n[nltk_data]   Package stopwords is already up-to-date!\n[nltk_data] Downloading package punkt to /home/kaloyanv/nltk_data...\n[nltk_data]   Package punkt is already up-to-date!\n"
     ]
    }
   ],
   "source": [
    "import pandas as pd\n",
    "import numpy as np\n",
    "import matplotlib.pyplot as plt\n",
    "import numpy as np\n",
    "from matplotlib import colors\n",
    "from matplotlib.ticker import PercentFormatter\n",
    "from matplotlib.lines import Line2D\n",
    "from matplotlib.ticker import (MultipleLocator, FormatStrFormatter,\n",
    "                               AutoMinorLocator)\n",
    "\n",
    "\n",
    "from unidecode import unidecode\n",
    "import re\n",
    "import nltk\n",
    "from nltk.corpus import stopwords\n",
    "from nltk.tokenize import word_tokenize\n",
    "from nltk.stem import WordNetLemmatizer, PorterStemmer, SnowballStemmer\n",
    "nltk.download('stopwords')\n",
    "import warnings\n",
    "warnings.filterwarnings('ignore')\n",
    "nltk.download('punkt')\n",
    "from nltk import word_tokenize,sent_tokenize\n",
    "from collections import Counter"
   ]
  },
  {
   "cell_type": "code",
   "execution_count": 2,
   "metadata": {},
   "outputs": [
    {
     "output_type": "stream",
     "name": "stdout",
     "text": [
      "/home/kaloyanv/Desktop/Data_Science/Cognitive_Science/US-Debate-Tweets-Analysis/scripts_notebooks\n"
     ]
    }
   ],
   "source": [
    "!pwd"
   ]
  },
  {
   "cell_type": "code",
   "execution_count": 3,
   "metadata": {},
   "outputs": [],
   "source": [
    "df_initial_debate = pd.read_csv(\"../data/us_election_2020_2nd_presidential_debate.csv\")"
   ]
  },
  {
   "cell_type": "code",
   "execution_count": 4,
   "metadata": {},
   "outputs": [],
   "source": [
    "# df_initial_debate = pd.read_csv(\"us_election_2020_2nd_presidential_debate.csv\")\n",
    "\n",
    "# Making new dataframe which wont have repeating speakers that are the same person\n",
    "\n",
    "speakers = []\n",
    "minutes = []\n",
    "texts = []\n",
    "\n",
    "for index in range(len(df_initial_debate)-1):\n",
    "\n",
    "    # debate attributes\n",
    "    speaker = df_initial_debate.iloc[index].speaker\n",
    "    minute = df_initial_debate.iloc[index].minute\n",
    "    current_text = df_initial_debate.iloc[index].text\n",
    "    next_speaker = df_initial_debate.iloc[index+1].speaker\n",
    "    next_text = df_initial_debate.iloc[index+1].text\n",
    "\n",
    "    try:\n",
    "        # checking if the current speaker is the last speaker\n",
    "        if speaker == df_initial_debate.iloc[index-1].speaker:\n",
    "            # checking if the current speaker is also a next speaker\n",
    "            if speaker == next_speaker:\n",
    "                texts[-1] += \" \" + next_text\n",
    "                continue # skipping to next iteration\n",
    "            else:\n",
    "                continue # skipping to next iteration\n",
    "    \n",
    "    except: # avoiding for the first row because there cant be previous speaker\n",
    "            pass \n",
    "    \n",
    "    if speaker == next_speaker: \n",
    "        #  combining the text of the current speaker and next if same\n",
    "        speakers.append(speaker)\n",
    "        minutes.append(minute)\n",
    "        texts.append(current_text + \" \" + next_text)\n",
    "\n",
    "    else:\n",
    "        #  text only of current speaker given next one is different\n",
    "        speakers.append(speaker)\n",
    "        minutes.append(minute)\n",
    "        texts.append(current_text)\n",
    "        \n",
    "debate_data = {\"speaker\":speakers,\"minute\":minutes,\"text\":texts}\n",
    "df_debate = pd.DataFrame(debate_data)\n",
    "df_debate['num_words'] = df_debate['text'].str.split().str.len()\n",
    "df_debate['minute']=pd.to_datetime(df_debate['minute'], format='%M:%S')\n",
    "\n",
    "df_debate_part1 = df_debate[0:73]\n",
    "df_debate_part2 = df_debate[73:310]\n",
    "df_debate_part3 = df_debate[310:]"
   ]
  },
  {
   "cell_type": "code",
   "execution_count": 5,
   "metadata": {},
   "outputs": [],
   "source": [
    "df_debate_part1['time_between']=0\n",
    "df_debate_part1['interrupted']=0\n",
    "for i in range(0, 72):\n",
    "    df_debate_part1['time_between'][i]=(df_debate_part1.iloc[i+1]['minute']-df_debate_part1.iloc[i]['minute']).total_seconds()\n",
    "for i in range(0, 72):\n",
    "    time = (df_debate_part1['time_between'][i]<=60 & df_debate_part1['time_between'][i+1]<=60)\n",
    "    trump_biden = ((df_debate_part1['speaker'][i]=='Donald Trump') & (df_debate_part1['speaker'][i+1]=='Joe Biden'))\n",
    "    biden_trump = ((df_debate_part1['speaker'][i]=='Joe Biden') & (df_debate_part1['speaker'][i+1]=='Donald Trump'))\n",
    "    speakers = (trump_biden | biden_trump)\n",
    "    if (time):\n",
    "        df_debate_part1['interrupted'][i]=1\n",
    "    if (time & speakers):\n",
    "        df_debate_part1['interrupted'][i]=2\n",
    "df_debate_part1['part']=1"
   ]
  },
  {
   "cell_type": "code",
   "execution_count": 6,
   "metadata": {},
   "outputs": [],
   "source": [
    "df_debate_part2 = df_debate_part2.reset_index(drop=True)\n",
    "df_debate_part2['time_between']=0\n",
    "df_debate_part2['interrupted']=0\n",
    "for i in range(0, 236):\n",
    "    df_debate_part2['time_between'][i]=(df_debate_part2.iloc[i+1]['minute']-df_debate_part2.iloc[i]['minute']).total_seconds()\n",
    "for i in range(0, 236):\n",
    "    time = (df_debate_part2['time_between'][i]<=60 & df_debate_part2['time_between'][i+1]<=60)\n",
    "    trump_biden = ((df_debate_part2['speaker'][i]=='Donald Trump') & (df_debate_part2['speaker'][i+1]=='Joe Biden'))\n",
    "    biden_trump = ((df_debate_part2['speaker'][i]=='Joe Biden') & (df_debate_part2['speaker'][i+1]=='Donald Trump'))\n",
    "    speakers = (trump_biden | biden_trump)\n",
    "    if (time):\n",
    "        df_debate_part2['interrupted'][i]=1\n",
    "    if (time & speakers):\n",
    "        df_debate_part2['interrupted'][i]=2\n",
    "df_debate_part2['part']=2"
   ]
  },
  {
   "cell_type": "code",
   "execution_count": 7,
   "metadata": {},
   "outputs": [],
   "source": [
    "df_debate_part3 = df_debate_part3.reset_index(drop=True)\n",
    "df_debate_part3['time_between']=0\n",
    "df_debate_part3['interrupted']=0\n",
    "for i in range(0, 155):\n",
    "    df_debate_part3['time_between'][i]=(df_debate_part3.iloc[i+1]['minute']-df_debate_part3.iloc[i]['minute']).total_seconds()\n",
    "for i in range(0, 155):\n",
    "    time = (df_debate_part3['time_between'][i]<=60 & df_debate_part3['time_between'][i+1]<=60)\n",
    "    trump_biden = ((df_debate_part3['speaker'][i]=='Donald Trump') & (df_debate_part3['speaker'][i+1]=='Joe Biden'))\n",
    "    biden_trump = ((df_debate_part3['speaker'][i]=='Joe Biden') & (df_debate_part3['speaker'][i+1]=='Donald Trump'))\n",
    "    speakers = (trump_biden | biden_trump)\n",
    "    if (time):\n",
    "        df_debate_part3['interrupted'][i]=1\n",
    "    if (time & speakers):\n",
    "        df_debate_part3['interrupted'][i]=2\n",
    "df_debate_part3['part']=3"
   ]
  },
  {
   "cell_type": "code",
   "execution_count": 8,
   "metadata": {},
   "outputs": [
    {
     "output_type": "execute_result",
     "data": {
      "text/plain": [
       "            speaker              minute  \\\n",
       "0    Kristen Welker 1900-01-01 00:00:18   \n",
       "1      Donald Trump 1900-01-01 00:07:37   \n",
       "2    Kristen Welker 1900-01-01 00:07:58   \n",
       "3      Donald Trump 1900-01-01 00:09:04   \n",
       "4    Kristen Welker 1900-01-01 00:11:06   \n",
       "..              ...                 ...   \n",
       "461  Kristen Welker 1900-01-01 00:24:30   \n",
       "462    Donald Trump 1900-01-01 00:24:47   \n",
       "463  Kristen Welker 1900-01-01 00:25:49   \n",
       "464       Joe Biden 1900-01-01 00:25:57   \n",
       "465  Kristen Welker 1900-01-01 00:26:53   \n",
       "\n",
       "                                                  text  num_words  \\\n",
       "0    Good evening, everyone. Good evening. Thank yo...        258   \n",
       "1                      How are you doing? How are you?          7   \n",
       "2    And I do want to say a very good evening to bo...        222   \n",
       "3    So as you know, 2.2 million people modeled out...        365   \n",
       "4    Okay. Former Vice President Biden to you. How ...         22   \n",
       "..                                                 ...        ...   \n",
       "461  All right. This is about leadership, gentlemen...         48   \n",
       "462  We have to make our country totally successful...        193   \n",
       "463  All right. Vice President Biden, same question...         25   \n",
       "464  I will say, I’m an American President. I repre...        174   \n",
       "465  All right, I want to thank you both for a very...         64   \n",
       "\n",
       "     time_between  interrupted  part  \n",
       "0             439            0     1  \n",
       "1              21            0     1  \n",
       "2              66            0     1  \n",
       "3             122            0     1  \n",
       "4               7            1     1  \n",
       "..            ...          ...   ...  \n",
       "461            17            1     3  \n",
       "462            62            0     3  \n",
       "463             8            1     3  \n",
       "464            56            0     3  \n",
       "465             0            0     3  \n",
       "\n",
       "[466 rows x 7 columns]"
      ],
      "text/html": "<div>\n<style scoped>\n    .dataframe tbody tr th:only-of-type {\n        vertical-align: middle;\n    }\n\n    .dataframe tbody tr th {\n        vertical-align: top;\n    }\n\n    .dataframe thead th {\n        text-align: right;\n    }\n</style>\n<table border=\"1\" class=\"dataframe\">\n  <thead>\n    <tr style=\"text-align: right;\">\n      <th></th>\n      <th>speaker</th>\n      <th>minute</th>\n      <th>text</th>\n      <th>num_words</th>\n      <th>time_between</th>\n      <th>interrupted</th>\n      <th>part</th>\n    </tr>\n  </thead>\n  <tbody>\n    <tr>\n      <th>0</th>\n      <td>Kristen Welker</td>\n      <td>1900-01-01 00:00:18</td>\n      <td>Good evening, everyone. Good evening. Thank yo...</td>\n      <td>258</td>\n      <td>439</td>\n      <td>0</td>\n      <td>1</td>\n    </tr>\n    <tr>\n      <th>1</th>\n      <td>Donald Trump</td>\n      <td>1900-01-01 00:07:37</td>\n      <td>How are you doing? How are you?</td>\n      <td>7</td>\n      <td>21</td>\n      <td>0</td>\n      <td>1</td>\n    </tr>\n    <tr>\n      <th>2</th>\n      <td>Kristen Welker</td>\n      <td>1900-01-01 00:07:58</td>\n      <td>And I do want to say a very good evening to bo...</td>\n      <td>222</td>\n      <td>66</td>\n      <td>0</td>\n      <td>1</td>\n    </tr>\n    <tr>\n      <th>3</th>\n      <td>Donald Trump</td>\n      <td>1900-01-01 00:09:04</td>\n      <td>So as you know, 2.2 million people modeled out...</td>\n      <td>365</td>\n      <td>122</td>\n      <td>0</td>\n      <td>1</td>\n    </tr>\n    <tr>\n      <th>4</th>\n      <td>Kristen Welker</td>\n      <td>1900-01-01 00:11:06</td>\n      <td>Okay. Former Vice President Biden to you. How ...</td>\n      <td>22</td>\n      <td>7</td>\n      <td>1</td>\n      <td>1</td>\n    </tr>\n    <tr>\n      <th>...</th>\n      <td>...</td>\n      <td>...</td>\n      <td>...</td>\n      <td>...</td>\n      <td>...</td>\n      <td>...</td>\n      <td>...</td>\n    </tr>\n    <tr>\n      <th>461</th>\n      <td>Kristen Welker</td>\n      <td>1900-01-01 00:24:30</td>\n      <td>All right. This is about leadership, gentlemen...</td>\n      <td>48</td>\n      <td>17</td>\n      <td>1</td>\n      <td>3</td>\n    </tr>\n    <tr>\n      <th>462</th>\n      <td>Donald Trump</td>\n      <td>1900-01-01 00:24:47</td>\n      <td>We have to make our country totally successful...</td>\n      <td>193</td>\n      <td>62</td>\n      <td>0</td>\n      <td>3</td>\n    </tr>\n    <tr>\n      <th>463</th>\n      <td>Kristen Welker</td>\n      <td>1900-01-01 00:25:49</td>\n      <td>All right. Vice President Biden, same question...</td>\n      <td>25</td>\n      <td>8</td>\n      <td>1</td>\n      <td>3</td>\n    </tr>\n    <tr>\n      <th>464</th>\n      <td>Joe Biden</td>\n      <td>1900-01-01 00:25:57</td>\n      <td>I will say, I’m an American President. I repre...</td>\n      <td>174</td>\n      <td>56</td>\n      <td>0</td>\n      <td>3</td>\n    </tr>\n    <tr>\n      <th>465</th>\n      <td>Kristen Welker</td>\n      <td>1900-01-01 00:26:53</td>\n      <td>All right, I want to thank you both for a very...</td>\n      <td>64</td>\n      <td>0</td>\n      <td>0</td>\n      <td>3</td>\n    </tr>\n  </tbody>\n</table>\n<p>466 rows × 7 columns</p>\n</div>"
     },
     "metadata": {},
     "execution_count": 8
    }
   ],
   "source": [
    "df_debate_updated = pd.concat([df_debate_part1, df_debate_part2, df_debate_part3])\n",
    "df_debate_updated = df_debate_updated.reset_index(drop=True)\n",
    "df_debate_updated"
   ]
  },
  {
   "cell_type": "code",
   "execution_count": 9,
   "metadata": {},
   "outputs": [],
   "source": [
    "for i in range(0, len(df_debate_updated)):\n",
    "    if (df_debate_updated['minute'][i].second>30):\n",
    "        df_debate_updated['minute'][i]=df_debate_updated['minute'][i].minute + 1\n",
    "    else:\n",
    "        df_debate_updated['minute'][i]=df_debate_updated['minute'][i].minute"
   ]
  },
  {
   "cell_type": "code",
   "execution_count": 10,
   "metadata": {},
   "outputs": [],
   "source": [
    "df_debate_interruptions = df_debate_updated[(df_debate_updated['interrupted']==2) | (df_debate_updated['interrupted']==1)]"
   ]
  },
  {
   "cell_type": "code",
   "execution_count": 11,
   "metadata": {},
   "outputs": [],
   "source": [
    "df_interruption_minutes = df_debate_interruptions[['minute','part', 'interrupted']]"
   ]
  },
  {
   "cell_type": "markdown",
   "metadata": {},
   "source": [
    "### If in a minute there is interruption score 1 and interruption score 2, we only keep 2"
   ]
  },
  {
   "cell_type": "code",
   "execution_count": 12,
   "metadata": {
    "scrolled": true
   },
   "outputs": [
    {
     "output_type": "execute_result",
     "data": {
      "text/plain": [
       "    minute  part  interrupted\n",
       "4       11     1            1\n",
       "8       13     1            1\n",
       "10      14     1            1\n",
       "14      15     1            1\n",
       "16      16     1            1\n",
       "..     ...   ...          ...\n",
       "419     21     3            2\n",
       "424     22     3            1\n",
       "431     23     3            2\n",
       "442     24     3            2\n",
       "463     26     3            1\n",
       "\n",
       "[72 rows x 3 columns]"
      ],
      "text/html": "<div>\n<style scoped>\n    .dataframe tbody tr th:only-of-type {\n        vertical-align: middle;\n    }\n\n    .dataframe tbody tr th {\n        vertical-align: top;\n    }\n\n    .dataframe thead th {\n        text-align: right;\n    }\n</style>\n<table border=\"1\" class=\"dataframe\">\n  <thead>\n    <tr style=\"text-align: right;\">\n      <th></th>\n      <th>minute</th>\n      <th>part</th>\n      <th>interrupted</th>\n    </tr>\n  </thead>\n  <tbody>\n    <tr>\n      <th>4</th>\n      <td>11</td>\n      <td>1</td>\n      <td>1</td>\n    </tr>\n    <tr>\n      <th>8</th>\n      <td>13</td>\n      <td>1</td>\n      <td>1</td>\n    </tr>\n    <tr>\n      <th>10</th>\n      <td>14</td>\n      <td>1</td>\n      <td>1</td>\n    </tr>\n    <tr>\n      <th>14</th>\n      <td>15</td>\n      <td>1</td>\n      <td>1</td>\n    </tr>\n    <tr>\n      <th>16</th>\n      <td>16</td>\n      <td>1</td>\n      <td>1</td>\n    </tr>\n    <tr>\n      <th>...</th>\n      <td>...</td>\n      <td>...</td>\n      <td>...</td>\n    </tr>\n    <tr>\n      <th>419</th>\n      <td>21</td>\n      <td>3</td>\n      <td>2</td>\n    </tr>\n    <tr>\n      <th>424</th>\n      <td>22</td>\n      <td>3</td>\n      <td>1</td>\n    </tr>\n    <tr>\n      <th>431</th>\n      <td>23</td>\n      <td>3</td>\n      <td>2</td>\n    </tr>\n    <tr>\n      <th>442</th>\n      <td>24</td>\n      <td>3</td>\n      <td>2</td>\n    </tr>\n    <tr>\n      <th>463</th>\n      <td>26</td>\n      <td>3</td>\n      <td>1</td>\n    </tr>\n  </tbody>\n</table>\n<p>72 rows × 3 columns</p>\n</div>"
     },
     "metadata": {},
     "execution_count": 12
    }
   ],
   "source": [
    "df_interruption_minutes = df_interruption_minutes.sort_values(by=['part', 'minute', 'interrupted'], ascending=False)\n",
    "df_interruption_minutes = df_interruption_minutes.drop_duplicates(subset=['minute', 'part'])\n",
    "df_interruption_minutes = df_interruption_minutes.sort_values(by=['part', 'minute'])\n",
    "df_interruption_minutes"
   ]
  },
  {
   "cell_type": "code",
   "execution_count": 13,
   "metadata": {},
   "outputs": [
    {
     "output_type": "display_data",
     "data": {
      "text/plain": "<Figure size 432x288 with 1 Axes>",
      "image/svg+xml": "<?xml version=\"1.0\" encoding=\"utf-8\" standalone=\"no\"?>\n<!DOCTYPE svg PUBLIC \"-//W3C//DTD SVG 1.1//EN\"\n  \"http://www.w3.org/Graphics/SVG/1.1/DTD/svg11.dtd\">\n<!-- Created with matplotlib (https://matplotlib.org/) -->\n<svg height=\"248.518125pt\" version=\"1.1\" viewBox=\"0 0 378.465625 248.518125\" width=\"378.465625pt\" xmlns=\"http://www.w3.org/2000/svg\" xmlns:xlink=\"http://www.w3.org/1999/xlink\">\n <metadata>\n  <rdf:RDF xmlns:cc=\"http://creativecommons.org/ns#\" xmlns:dc=\"http://purl.org/dc/elements/1.1/\" xmlns:rdf=\"http://www.w3.org/1999/02/22-rdf-syntax-ns#\">\n   <cc:Work>\n    <dc:type rdf:resource=\"http://purl.org/dc/dcmitype/StillImage\"/>\n    <dc:date>2021-01-09T20:05:42.144347</dc:date>\n    <dc:format>image/svg+xml</dc:format>\n    <dc:creator>\n     <cc:Agent>\n      <dc:title>Matplotlib v3.3.3, https://matplotlib.org/</dc:title>\n     </cc:Agent>\n    </dc:creator>\n   </cc:Work>\n  </rdf:RDF>\n </metadata>\n <defs>\n  <style type=\"text/css\">*{stroke-linecap:butt;stroke-linejoin:round;}</style>\n </defs>\n <g id=\"figure_1\">\n  <g id=\"patch_1\">\n   <path d=\"M 0 248.518125 \nL 378.465625 248.518125 \nL 378.465625 0 \nL 0 0 \nz\n\" style=\"fill:none;\"/>\n  </g>\n  <g id=\"axes_1\">\n   <g id=\"patch_2\">\n    <path d=\"M 36.465625 224.64 \nL 371.265625 224.64 \nL 371.265625 7.2 \nL 36.465625 7.2 \nz\n\" style=\"fill:#ffffff;\"/>\n   </g>\n   <g id=\"patch_3\">\n    <path clip-path=\"url(#p5bfc2a90f4)\" d=\"M 51.683807 224.64 \nL 52.213365 224.64 \nL 52.213365 121.097143 \nL 51.683807 121.097143 \nz\n\" style=\"fill:#1f77b4;\"/>\n   </g>\n   <g id=\"patch_4\">\n    <path clip-path=\"url(#p5bfc2a90f4)\" d=\"M 54.331598 224.64 \nL 54.861157 224.64 \nL 54.861157 121.097143 \nL 54.331598 121.097143 \nz\n\" style=\"fill:#1f77b4;\"/>\n   </g>\n   <g id=\"patch_5\">\n    <path clip-path=\"url(#p5bfc2a90f4)\" d=\"M 55.655494 224.64 \nL 56.185052 224.64 \nL 56.185052 121.097143 \nL 55.655494 121.097143 \nz\n\" style=\"fill:#1f77b4;\"/>\n   </g>\n   <g id=\"patch_6\">\n    <path clip-path=\"url(#p5bfc2a90f4)\" d=\"M 58.303286 224.64 \nL 58.832844 224.64 \nL 58.832844 121.097143 \nL 58.303286 121.097143 \nz\n\" style=\"fill:#1f77b4;\"/>\n   </g>\n   <g id=\"patch_7\">\n    <path clip-path=\"url(#p5bfc2a90f4)\" d=\"M 59.627181 224.64 \nL 60.15674 224.64 \nL 60.15674 121.097143 \nL 59.627181 121.097143 \nz\n\" style=\"fill:#1f77b4;\"/>\n   </g>\n   <g id=\"patch_8\">\n    <path clip-path=\"url(#p5bfc2a90f4)\" d=\"M 60.951077 224.64 \nL 61.480635 224.64 \nL 61.480635 121.097143 \nL 60.951077 121.097143 \nz\n\" style=\"fill:#1f77b4;\"/>\n   </g>\n   <g id=\"patch_9\">\n    <path clip-path=\"url(#p5bfc2a90f4)\" d=\"M 62.274973 224.64 \nL 62.804531 224.64 \nL 62.804531 121.097143 \nL 62.274973 121.097143 \nz\n\" style=\"fill:#1f77b4;\"/>\n   </g>\n   <g id=\"patch_10\">\n    <path clip-path=\"url(#p5bfc2a90f4)\" d=\"M 65.584712 224.64 \nL 66.114271 224.64 \nL 66.114271 121.097143 \nL 65.584712 121.097143 \nz\n\" style=\"fill:#1f77b4;\"/>\n   </g>\n   <g id=\"patch_11\">\n    <path clip-path=\"url(#p5bfc2a90f4)\" d=\"M 70.218348 224.64 \nL 70.747906 224.64 \nL 70.747906 17.554286 \nL 70.218348 17.554286 \nz\n\" style=\"fill:#1f77b4;\"/>\n   </g>\n   <g id=\"patch_12\">\n    <path clip-path=\"url(#p5bfc2a90f4)\" d=\"M 73.528087 224.64 \nL 74.057645 224.64 \nL 74.057645 121.097143 \nL 73.528087 121.097143 \nz\n\" style=\"fill:#1f77b4;\"/>\n   </g>\n   <g id=\"patch_13\">\n    <path clip-path=\"url(#p5bfc2a90f4)\" d=\"M 78.161722 224.64 \nL 78.69128 224.64 \nL 78.69128 121.097143 \nL 78.161722 121.097143 \nz\n\" style=\"fill:#1f77b4;\"/>\n   </g>\n   <g id=\"patch_14\">\n    <path clip-path=\"url(#p5bfc2a90f4)\" d=\"M 79.485618 224.64 \nL 80.015176 224.64 \nL 80.015176 121.097143 \nL 79.485618 121.097143 \nz\n\" style=\"fill:#1f77b4;\"/>\n   </g>\n   <g id=\"patch_15\">\n    <path clip-path=\"url(#p5bfc2a90f4)\" d=\"M 80.809514 224.64 \nL 81.339072 224.64 \nL 81.339072 121.097143 \nL 80.809514 121.097143 \nz\n\" style=\"fill:#1f77b4;\"/>\n   </g>\n   <g id=\"patch_16\">\n    <path clip-path=\"url(#p5bfc2a90f4)\" d=\"M 82.133409 224.64 \nL 82.662968 224.64 \nL 82.662968 121.097143 \nL 82.133409 121.097143 \nz\n\" style=\"fill:#1f77b4;\"/>\n   </g>\n   <g id=\"patch_17\">\n    <path clip-path=\"url(#p5bfc2a90f4)\" d=\"M 85.443149 224.64 \nL 85.972707 224.64 \nL 85.972707 121.097143 \nL 85.443149 121.097143 \nz\n\" style=\"fill:#1f77b4;\"/>\n   </g>\n   <g id=\"patch_18\">\n    <path clip-path=\"url(#p5bfc2a90f4)\" d=\"M 86.767045 224.64 \nL 87.296603 224.64 \nL 87.296603 121.097143 \nL 86.767045 121.097143 \nz\n\" style=\"fill:#1f77b4;\"/>\n   </g>\n   <g id=\"patch_19\">\n    <path clip-path=\"url(#p5bfc2a90f4)\" d=\"M 88.09094 224.64 \nL 88.620499 224.64 \nL 88.620499 121.097143 \nL 88.09094 121.097143 \nz\n\" style=\"fill:#1f77b4;\"/>\n   </g>\n   <g id=\"patch_20\">\n    <path clip-path=\"url(#p5bfc2a90f4)\" d=\"M 91.40068 224.64 \nL 91.930238 224.64 \nL 91.930238 17.554286 \nL 91.40068 17.554286 \nz\n\" style=\"fill:#1f77b4;\"/>\n   </g>\n   <g id=\"patch_21\">\n    <path clip-path=\"url(#p5bfc2a90f4)\" d=\"M 98.020159 224.64 \nL 98.549717 224.64 \nL 98.549717 121.097143 \nL 98.020159 121.097143 \nz\n\" style=\"fill:#1f77b4;\"/>\n   </g>\n   <g id=\"patch_22\">\n    <path clip-path=\"url(#p5bfc2a90f4)\" d=\"M 100.006002 224.64 \nL 100.535561 224.64 \nL 100.535561 121.097143 \nL 100.006002 121.097143 \nz\n\" style=\"fill:#1f77b4;\"/>\n   </g>\n   <g id=\"patch_23\">\n    <path clip-path=\"url(#p5bfc2a90f4)\" d=\"M 103.315742 224.64 \nL 103.8453 224.64 \nL 103.8453 121.097143 \nL 103.315742 121.097143 \nz\n\" style=\"fill:#1f77b4;\"/>\n   </g>\n   <g id=\"patch_24\">\n    <path clip-path=\"url(#p5bfc2a90f4)\" d=\"M 107.949377 224.64 \nL 108.478935 224.64 \nL 108.478935 17.554286 \nL 107.949377 17.554286 \nz\n\" style=\"fill:#1f77b4;\"/>\n   </g>\n   <g id=\"patch_25\">\n    <path clip-path=\"url(#p5bfc2a90f4)\" d=\"M 111.921064 224.64 \nL 112.450622 224.64 \nL 112.450622 121.097143 \nL 111.921064 121.097143 \nz\n\" style=\"fill:#1f77b4;\"/>\n   </g>\n   <g id=\"patch_26\">\n    <path clip-path=\"url(#p5bfc2a90f4)\" d=\"M 115.892751 224.64 \nL 116.42231 224.64 \nL 116.42231 121.097143 \nL 115.892751 121.097143 \nz\n\" style=\"fill:#1f77b4;\"/>\n   </g>\n   <g id=\"patch_27\">\n    <path clip-path=\"url(#p5bfc2a90f4)\" d=\"M 120.526387 224.64 \nL 121.055945 224.64 \nL 121.055945 121.097143 \nL 120.526387 121.097143 \nz\n\" style=\"fill:#1f77b4;\"/>\n   </g>\n   <g id=\"patch_28\">\n    <path clip-path=\"url(#p5bfc2a90f4)\" d=\"M 122.51223 224.64 \nL 123.041789 224.64 \nL 123.041789 121.097143 \nL 122.51223 121.097143 \nz\n\" style=\"fill:#1f77b4;\"/>\n   </g>\n   <g id=\"patch_29\">\n    <path clip-path=\"url(#p5bfc2a90f4)\" d=\"M 128.469761 224.64 \nL 128.999319 224.64 \nL 128.999319 17.554286 \nL 128.469761 17.554286 \nz\n\" style=\"fill:#1f77b4;\"/>\n   </g>\n   <g id=\"patch_30\">\n    <path clip-path=\"url(#p5bfc2a90f4)\" d=\"M 141.708719 224.64 \nL 142.238277 224.64 \nL 142.238277 17.554286 \nL 141.708719 17.554286 \nz\n\" style=\"fill:#1f77b4;\"/>\n   </g>\n   <g id=\"patch_31\">\n    <path clip-path=\"url(#p5bfc2a90f4)\" d=\"M 147.66625 224.64 \nL 148.195808 224.64 \nL 148.195808 121.097143 \nL 147.66625 121.097143 \nz\n\" style=\"fill:#1f77b4;\"/>\n   </g>\n   <g id=\"patch_32\">\n    <path clip-path=\"url(#p5bfc2a90f4)\" d=\"M 150.975989 224.64 \nL 151.505547 224.64 \nL 151.505547 121.097143 \nL 150.975989 121.097143 \nz\n\" style=\"fill:#1f77b4;\"/>\n   </g>\n   <g id=\"patch_33\">\n    <path clip-path=\"url(#p5bfc2a90f4)\" d=\"M 152.961833 224.64 \nL 153.491391 224.64 \nL 153.491391 121.097143 \nL 152.961833 121.097143 \nz\n\" style=\"fill:#1f77b4;\"/>\n   </g>\n   <g id=\"patch_34\">\n    <path clip-path=\"url(#p5bfc2a90f4)\" d=\"M 154.285729 224.64 \nL 154.815287 224.64 \nL 154.815287 121.097143 \nL 154.285729 121.097143 \nz\n\" style=\"fill:#1f77b4;\"/>\n   </g>\n   <g id=\"patch_35\">\n    <path clip-path=\"url(#p5bfc2a90f4)\" d=\"M 161.567155 224.64 \nL 162.096714 224.64 \nL 162.096714 121.097143 \nL 161.567155 121.097143 \nz\n\" style=\"fill:#1f77b4;\"/>\n   </g>\n   <g id=\"patch_36\">\n    <path clip-path=\"url(#p5bfc2a90f4)\" d=\"M 167.524686 224.64 \nL 168.054245 224.64 \nL 168.054245 121.097143 \nL 167.524686 121.097143 \nz\n\" style=\"fill:#1f77b4;\"/>\n   </g>\n   <g id=\"patch_37\">\n    <path clip-path=\"url(#p5bfc2a90f4)\" d=\"M 168.848582 224.64 \nL 169.37814 224.64 \nL 169.37814 121.097143 \nL 168.848582 121.097143 \nz\n\" style=\"fill:#1f77b4;\"/>\n   </g>\n   <g id=\"patch_38\">\n    <path clip-path=\"url(#p5bfc2a90f4)\" d=\"M 170.172478 224.64 \nL 170.702036 224.64 \nL 170.702036 121.097143 \nL 170.172478 121.097143 \nz\n\" style=\"fill:#1f77b4;\"/>\n   </g>\n   <g id=\"patch_39\">\n    <path clip-path=\"url(#p5bfc2a90f4)\" d=\"M 172.820269 224.64 \nL 173.349828 224.64 \nL 173.349828 17.554286 \nL 172.820269 17.554286 \nz\n\" style=\"fill:#1f77b4;\"/>\n   </g>\n   <g id=\"patch_40\">\n    <path clip-path=\"url(#p5bfc2a90f4)\" d=\"M 183.411435 224.64 \nL 183.940994 224.64 \nL 183.940994 17.554286 \nL 183.411435 17.554286 \nz\n\" style=\"fill:#1f77b4;\"/>\n   </g>\n   <g id=\"patch_41\">\n    <path clip-path=\"url(#p5bfc2a90f4)\" d=\"M 190.030914 224.64 \nL 190.560473 224.64 \nL 190.560473 121.097143 \nL 190.030914 121.097143 \nz\n\" style=\"fill:#1f77b4;\"/>\n   </g>\n   <g id=\"patch_42\">\n    <path clip-path=\"url(#p5bfc2a90f4)\" d=\"M 199.960132 224.64 \nL 200.489691 224.64 \nL 200.489691 121.097143 \nL 199.960132 121.097143 \nz\n\" style=\"fill:#1f77b4;\"/>\n   </g>\n   <g id=\"patch_43\">\n    <path clip-path=\"url(#p5bfc2a90f4)\" d=\"M 206.579611 224.64 \nL 207.10917 224.64 \nL 207.10917 121.097143 \nL 206.579611 121.097143 \nz\n\" style=\"fill:#1f77b4;\"/>\n   </g>\n   <g id=\"patch_44\">\n    <path clip-path=\"url(#p5bfc2a90f4)\" d=\"M 211.213246 224.64 \nL 211.742805 224.64 \nL 211.742805 121.097143 \nL 211.213246 121.097143 \nz\n\" style=\"fill:#1f77b4;\"/>\n   </g>\n   <g id=\"patch_45\">\n    <path clip-path=\"url(#p5bfc2a90f4)\" d=\"M 213.861038 224.64 \nL 214.390596 224.64 \nL 214.390596 121.097143 \nL 213.861038 121.097143 \nz\n\" style=\"fill:#1f77b4;\"/>\n   </g>\n   <g id=\"patch_46\">\n    <path clip-path=\"url(#p5bfc2a90f4)\" d=\"M 223.128308 224.64 \nL 223.657867 224.64 \nL 223.657867 17.554286 \nL 223.128308 17.554286 \nz\n\" style=\"fill:#1f77b4;\"/>\n   </g>\n   <g id=\"patch_47\">\n    <path clip-path=\"url(#p5bfc2a90f4)\" d=\"M 226.438048 224.64 \nL 226.967606 224.64 \nL 226.967606 121.097143 \nL 226.438048 121.097143 \nz\n\" style=\"fill:#1f77b4;\"/>\n   </g>\n   <g id=\"patch_48\">\n    <path clip-path=\"url(#p5bfc2a90f4)\" d=\"M 229.747787 224.64 \nL 230.277346 224.64 \nL 230.277346 121.097143 \nL 229.747787 121.097143 \nz\n\" style=\"fill:#1f77b4;\"/>\n   </g>\n   <g id=\"patch_49\">\n    <path clip-path=\"url(#p5bfc2a90f4)\" d=\"M 237.691162 224.64 \nL 238.22072 224.64 \nL 238.22072 121.097143 \nL 237.691162 121.097143 \nz\n\" style=\"fill:#1f77b4;\"/>\n   </g>\n   <g id=\"patch_50\">\n    <path clip-path=\"url(#p5bfc2a90f4)\" d=\"M 241.662849 224.64 \nL 242.192407 224.64 \nL 242.192407 121.097143 \nL 241.662849 121.097143 \nz\n\" style=\"fill:#1f77b4;\"/>\n   </g>\n   <g id=\"patch_51\">\n    <path clip-path=\"url(#p5bfc2a90f4)\" d=\"M 242.986745 224.64 \nL 243.516303 224.64 \nL 243.516303 121.097143 \nL 242.986745 121.097143 \nz\n\" style=\"fill:#1f77b4;\"/>\n   </g>\n   <g id=\"patch_52\">\n    <path clip-path=\"url(#p5bfc2a90f4)\" d=\"M 250.930119 224.64 \nL 251.459678 224.64 \nL 251.459678 121.097143 \nL 250.930119 121.097143 \nz\n\" style=\"fill:#1f77b4;\"/>\n   </g>\n   <g id=\"patch_53\">\n    <path clip-path=\"url(#p5bfc2a90f4)\" d=\"M 252.254015 224.64 \nL 252.783574 224.64 \nL 252.783574 121.097143 \nL 252.254015 121.097143 \nz\n\" style=\"fill:#1f77b4;\"/>\n   </g>\n   <g id=\"patch_54\">\n    <path clip-path=\"url(#p5bfc2a90f4)\" d=\"M 254.239859 224.64 \nL 254.769417 224.64 \nL 254.769417 121.097143 \nL 254.239859 121.097143 \nz\n\" style=\"fill:#1f77b4;\"/>\n   </g>\n   <g id=\"patch_55\">\n    <path clip-path=\"url(#p5bfc2a90f4)\" d=\"M 255.563755 224.64 \nL 256.093313 224.64 \nL 256.093313 121.097143 \nL 255.563755 121.097143 \nz\n\" style=\"fill:#1f77b4;\"/>\n   </g>\n   <g id=\"patch_56\">\n    <path clip-path=\"url(#p5bfc2a90f4)\" d=\"M 257.549598 224.64 \nL 258.079157 224.64 \nL 258.079157 17.554286 \nL 257.549598 17.554286 \nz\n\" style=\"fill:#1f77b4;\"/>\n   </g>\n   <g id=\"patch_57\">\n    <path clip-path=\"url(#p5bfc2a90f4)\" d=\"M 264.831025 224.64 \nL 265.360583 224.64 \nL 265.360583 17.554286 \nL 264.831025 17.554286 \nz\n\" style=\"fill:#1f77b4;\"/>\n   </g>\n   <g id=\"patch_58\">\n    <path clip-path=\"url(#p5bfc2a90f4)\" d=\"M 269.46466 224.64 \nL 269.994218 224.64 \nL 269.994218 17.554286 \nL 269.46466 17.554286 \nz\n\" style=\"fill:#1f77b4;\"/>\n   </g>\n   <g id=\"patch_59\">\n    <path clip-path=\"url(#p5bfc2a90f4)\" d=\"M 274.760243 224.64 \nL 275.289802 224.64 \nL 275.289802 121.097143 \nL 274.760243 121.097143 \nz\n\" style=\"fill:#1f77b4;\"/>\n   </g>\n   <g id=\"patch_60\">\n    <path clip-path=\"url(#p5bfc2a90f4)\" d=\"M 280.055826 224.64 \nL 280.585385 224.64 \nL 280.585385 17.554286 \nL 280.055826 17.554286 \nz\n\" style=\"fill:#1f77b4;\"/>\n   </g>\n   <g id=\"patch_61\">\n    <path clip-path=\"url(#p5bfc2a90f4)\" d=\"M 282.703618 224.64 \nL 283.233176 224.64 \nL 283.233176 17.554286 \nL 282.703618 17.554286 \nz\n\" style=\"fill:#1f77b4;\"/>\n   </g>\n   <g id=\"patch_62\">\n    <path clip-path=\"url(#p5bfc2a90f4)\" d=\"M 291.30894 224.64 \nL 291.838499 224.64 \nL 291.838499 17.554286 \nL 291.30894 17.554286 \nz\n\" style=\"fill:#1f77b4;\"/>\n   </g>\n   <g id=\"patch_63\">\n    <path clip-path=\"url(#p5bfc2a90f4)\" d=\"M 292.632836 224.64 \nL 293.162394 224.64 \nL 293.162394 121.097143 \nL 292.632836 121.097143 \nz\n\" style=\"fill:#1f77b4;\"/>\n   </g>\n   <g id=\"patch_64\">\n    <path clip-path=\"url(#p5bfc2a90f4)\" d=\"M 297.928419 224.64 \nL 298.457977 224.64 \nL 298.457977 121.097143 \nL 297.928419 121.097143 \nz\n\" style=\"fill:#1f77b4;\"/>\n   </g>\n   <g id=\"patch_65\">\n    <path clip-path=\"url(#p5bfc2a90f4)\" d=\"M 301.238159 224.64 \nL 301.767717 224.64 \nL 301.767717 121.097143 \nL 301.238159 121.097143 \nz\n\" style=\"fill:#1f77b4;\"/>\n   </g>\n   <g id=\"patch_66\">\n    <path clip-path=\"url(#p5bfc2a90f4)\" d=\"M 305.209846 224.64 \nL 305.739404 224.64 \nL 305.739404 17.554286 \nL 305.209846 17.554286 \nz\n\" style=\"fill:#1f77b4;\"/>\n   </g>\n   <g id=\"patch_67\">\n    <path clip-path=\"url(#p5bfc2a90f4)\" d=\"M 306.533742 224.64 \nL 307.0633 224.64 \nL 307.0633 121.097143 \nL 306.533742 121.097143 \nz\n\" style=\"fill:#1f77b4;\"/>\n   </g>\n   <g id=\"patch_68\">\n    <path clip-path=\"url(#p5bfc2a90f4)\" d=\"M 313.815168 224.64 \nL 314.344727 224.64 \nL 314.344727 121.097143 \nL 313.815168 121.097143 \nz\n\" style=\"fill:#1f77b4;\"/>\n   </g>\n   <g id=\"patch_69\">\n    <path clip-path=\"url(#p5bfc2a90f4)\" d=\"M 315.801012 224.64 \nL 316.33057 224.64 \nL 316.33057 17.554286 \nL 315.801012 17.554286 \nz\n\" style=\"fill:#1f77b4;\"/>\n   </g>\n   <g id=\"patch_70\">\n    <path clip-path=\"url(#p5bfc2a90f4)\" d=\"M 326.392178 224.64 \nL 326.921736 224.64 \nL 326.921736 17.554286 \nL 326.392178 17.554286 \nz\n\" style=\"fill:#1f77b4;\"/>\n   </g>\n   <g id=\"patch_71\">\n    <path clip-path=\"url(#p5bfc2a90f4)\" d=\"M 329.701917 224.64 \nL 330.231476 224.64 \nL 330.231476 121.097143 \nL 329.701917 121.097143 \nz\n\" style=\"fill:#1f77b4;\"/>\n   </g>\n   <g id=\"patch_72\">\n    <path clip-path=\"url(#p5bfc2a90f4)\" d=\"M 334.335553 224.64 \nL 334.865111 224.64 \nL 334.865111 17.554286 \nL 334.335553 17.554286 \nz\n\" style=\"fill:#1f77b4;\"/>\n   </g>\n   <g id=\"patch_73\">\n    <path clip-path=\"url(#p5bfc2a90f4)\" d=\"M 341.616979 224.64 \nL 342.146538 224.64 \nL 342.146538 17.554286 \nL 341.616979 17.554286 \nz\n\" style=\"fill:#1f77b4;\"/>\n   </g>\n   <g id=\"patch_74\">\n    <path clip-path=\"url(#p5bfc2a90f4)\" d=\"M 355.517885 224.64 \nL 356.047443 224.64 \nL 356.047443 121.097143 \nL 355.517885 121.097143 \nz\n\" style=\"fill:#1f77b4;\"/>\n   </g>\n   <g id=\"matplotlib.axis_1\">\n    <g id=\"xtick_1\">\n     <g id=\"line2d_1\">\n      <defs>\n       <path d=\"M 0 0 \nL 0 3.5 \n\" id=\"m94cd174aef\" style=\"stroke:#000000;stroke-width:0.8;\"/>\n      </defs>\n      <g>\n       <use style=\"stroke:#000000;stroke-width:0.8;\" x=\"49.300794\" xlink:href=\"#m94cd174aef\" y=\"224.64\"/>\n      </g>\n     </g>\n     <g id=\"text_1\">\n      <!-- 0 -->\n      <g transform=\"translate(46.119544 239.238437)scale(0.1 -0.1)\">\n       <defs>\n        <path d=\"M 31.78125 66.40625 \nQ 24.171875 66.40625 20.328125 58.90625 \nQ 16.5 51.421875 16.5 36.375 \nQ 16.5 21.390625 20.328125 13.890625 \nQ 24.171875 6.390625 31.78125 6.390625 \nQ 39.453125 6.390625 43.28125 13.890625 \nQ 47.125 21.390625 47.125 36.375 \nQ 47.125 51.421875 43.28125 58.90625 \nQ 39.453125 66.40625 31.78125 66.40625 \nz\nM 31.78125 74.21875 \nQ 44.046875 74.21875 50.515625 64.515625 \nQ 56.984375 54.828125 56.984375 36.375 \nQ 56.984375 17.96875 50.515625 8.265625 \nQ 44.046875 -1.421875 31.78125 -1.421875 \nQ 19.53125 -1.421875 13.0625 8.265625 \nQ 6.59375 17.96875 6.59375 36.375 \nQ 6.59375 54.828125 13.0625 64.515625 \nQ 19.53125 74.21875 31.78125 74.21875 \nz\n\" id=\"DejaVuSans-48\"/>\n       </defs>\n       <use xlink:href=\"#DejaVuSans-48\"/>\n      </g>\n     </g>\n    </g>\n    <g id=\"xtick_2\">\n     <g id=\"line2d_2\">\n      <g>\n       <use style=\"stroke:#000000;stroke-width:0.8;\" x=\"115.495583\" xlink:href=\"#m94cd174aef\" y=\"224.64\"/>\n      </g>\n     </g>\n     <g id=\"text_2\">\n      <!-- 100 -->\n      <g transform=\"translate(105.951833 239.238437)scale(0.1 -0.1)\">\n       <defs>\n        <path d=\"M 12.40625 8.296875 \nL 28.515625 8.296875 \nL 28.515625 63.921875 \nL 10.984375 60.40625 \nL 10.984375 69.390625 \nL 28.421875 72.90625 \nL 38.28125 72.90625 \nL 38.28125 8.296875 \nL 54.390625 8.296875 \nL 54.390625 0 \nL 12.40625 0 \nz\n\" id=\"DejaVuSans-49\"/>\n       </defs>\n       <use xlink:href=\"#DejaVuSans-49\"/>\n       <use x=\"63.623047\" xlink:href=\"#DejaVuSans-48\"/>\n       <use x=\"127.246094\" xlink:href=\"#DejaVuSans-48\"/>\n      </g>\n     </g>\n    </g>\n    <g id=\"xtick_3\">\n     <g id=\"line2d_3\">\n      <g>\n       <use style=\"stroke:#000000;stroke-width:0.8;\" x=\"181.690371\" xlink:href=\"#m94cd174aef\" y=\"224.64\"/>\n      </g>\n     </g>\n     <g id=\"text_3\">\n      <!-- 200 -->\n      <g transform=\"translate(172.146621 239.238437)scale(0.1 -0.1)\">\n       <defs>\n        <path d=\"M 19.1875 8.296875 \nL 53.609375 8.296875 \nL 53.609375 0 \nL 7.328125 0 \nL 7.328125 8.296875 \nQ 12.9375 14.109375 22.625 23.890625 \nQ 32.328125 33.6875 34.8125 36.53125 \nQ 39.546875 41.84375 41.421875 45.53125 \nQ 43.3125 49.21875 43.3125 52.78125 \nQ 43.3125 58.59375 39.234375 62.25 \nQ 35.15625 65.921875 28.609375 65.921875 \nQ 23.96875 65.921875 18.8125 64.3125 \nQ 13.671875 62.703125 7.8125 59.421875 \nL 7.8125 69.390625 \nQ 13.765625 71.78125 18.9375 73 \nQ 24.125 74.21875 28.421875 74.21875 \nQ 39.75 74.21875 46.484375 68.546875 \nQ 53.21875 62.890625 53.21875 53.421875 \nQ 53.21875 48.921875 51.53125 44.890625 \nQ 49.859375 40.875 45.40625 35.40625 \nQ 44.1875 33.984375 37.640625 27.21875 \nQ 31.109375 20.453125 19.1875 8.296875 \nz\n\" id=\"DejaVuSans-50\"/>\n       </defs>\n       <use xlink:href=\"#DejaVuSans-50\"/>\n       <use x=\"63.623047\" xlink:href=\"#DejaVuSans-48\"/>\n       <use x=\"127.246094\" xlink:href=\"#DejaVuSans-48\"/>\n      </g>\n     </g>\n    </g>\n    <g id=\"xtick_4\">\n     <g id=\"line2d_4\">\n      <g>\n       <use style=\"stroke:#000000;stroke-width:0.8;\" x=\"247.885159\" xlink:href=\"#m94cd174aef\" y=\"224.64\"/>\n      </g>\n     </g>\n     <g id=\"text_4\">\n      <!-- 300 -->\n      <g transform=\"translate(238.341409 239.238437)scale(0.1 -0.1)\">\n       <defs>\n        <path d=\"M 40.578125 39.3125 \nQ 47.65625 37.796875 51.625 33 \nQ 55.609375 28.21875 55.609375 21.1875 \nQ 55.609375 10.40625 48.1875 4.484375 \nQ 40.765625 -1.421875 27.09375 -1.421875 \nQ 22.515625 -1.421875 17.65625 -0.515625 \nQ 12.796875 0.390625 7.625 2.203125 \nL 7.625 11.71875 \nQ 11.71875 9.328125 16.59375 8.109375 \nQ 21.484375 6.890625 26.8125 6.890625 \nQ 36.078125 6.890625 40.9375 10.546875 \nQ 45.796875 14.203125 45.796875 21.1875 \nQ 45.796875 27.640625 41.28125 31.265625 \nQ 36.765625 34.90625 28.71875 34.90625 \nL 20.21875 34.90625 \nL 20.21875 43.015625 \nL 29.109375 43.015625 \nQ 36.375 43.015625 40.234375 45.921875 \nQ 44.09375 48.828125 44.09375 54.296875 \nQ 44.09375 59.90625 40.109375 62.90625 \nQ 36.140625 65.921875 28.71875 65.921875 \nQ 24.65625 65.921875 20.015625 65.03125 \nQ 15.375 64.15625 9.8125 62.3125 \nL 9.8125 71.09375 \nQ 15.4375 72.65625 20.34375 73.4375 \nQ 25.25 74.21875 29.59375 74.21875 \nQ 40.828125 74.21875 47.359375 69.109375 \nQ 53.90625 64.015625 53.90625 55.328125 \nQ 53.90625 49.265625 50.4375 45.09375 \nQ 46.96875 40.921875 40.578125 39.3125 \nz\n\" id=\"DejaVuSans-51\"/>\n       </defs>\n       <use xlink:href=\"#DejaVuSans-51\"/>\n       <use x=\"63.623047\" xlink:href=\"#DejaVuSans-48\"/>\n       <use x=\"127.246094\" xlink:href=\"#DejaVuSans-48\"/>\n      </g>\n     </g>\n    </g>\n    <g id=\"xtick_5\">\n     <g id=\"line2d_5\">\n      <g>\n       <use style=\"stroke:#000000;stroke-width:0.8;\" x=\"314.079947\" xlink:href=\"#m94cd174aef\" y=\"224.64\"/>\n      </g>\n     </g>\n     <g id=\"text_5\">\n      <!-- 400 -->\n      <g transform=\"translate(304.536197 239.238437)scale(0.1 -0.1)\">\n       <defs>\n        <path d=\"M 37.796875 64.3125 \nL 12.890625 25.390625 \nL 37.796875 25.390625 \nz\nM 35.203125 72.90625 \nL 47.609375 72.90625 \nL 47.609375 25.390625 \nL 58.015625 25.390625 \nL 58.015625 17.1875 \nL 47.609375 17.1875 \nL 47.609375 0 \nL 37.796875 0 \nL 37.796875 17.1875 \nL 4.890625 17.1875 \nL 4.890625 26.703125 \nz\n\" id=\"DejaVuSans-52\"/>\n       </defs>\n       <use xlink:href=\"#DejaVuSans-52\"/>\n       <use x=\"63.623047\" xlink:href=\"#DejaVuSans-48\"/>\n       <use x=\"127.246094\" xlink:href=\"#DejaVuSans-48\"/>\n      </g>\n     </g>\n    </g>\n   </g>\n   <g id=\"matplotlib.axis_2\">\n    <g id=\"ytick_1\">\n     <g id=\"line2d_6\">\n      <defs>\n       <path d=\"M 0 0 \nL -3.5 0 \n\" id=\"mec59b90318\" style=\"stroke:#000000;stroke-width:0.8;\"/>\n      </defs>\n      <g>\n       <use style=\"stroke:#000000;stroke-width:0.8;\" x=\"36.465625\" xlink:href=\"#mec59b90318\" y=\"224.64\"/>\n      </g>\n     </g>\n     <g id=\"text_6\">\n      <!-- 0.00 -->\n      <g transform=\"translate(7.2 228.439219)scale(0.1 -0.1)\">\n       <defs>\n        <path d=\"M 10.6875 12.40625 \nL 21 12.40625 \nL 21 0 \nL 10.6875 0 \nz\n\" id=\"DejaVuSans-46\"/>\n       </defs>\n       <use xlink:href=\"#DejaVuSans-48\"/>\n       <use x=\"63.623047\" xlink:href=\"#DejaVuSans-46\"/>\n       <use x=\"95.410156\" xlink:href=\"#DejaVuSans-48\"/>\n       <use x=\"159.033203\" xlink:href=\"#DejaVuSans-48\"/>\n      </g>\n     </g>\n    </g>\n    <g id=\"ytick_2\">\n     <g id=\"line2d_7\">\n      <g>\n       <use style=\"stroke:#000000;stroke-width:0.8;\" x=\"36.465625\" xlink:href=\"#mec59b90318\" y=\"198.754286\"/>\n      </g>\n     </g>\n     <g id=\"text_7\">\n      <!-- 0.25 -->\n      <g transform=\"translate(7.2 202.553504)scale(0.1 -0.1)\">\n       <defs>\n        <path d=\"M 10.796875 72.90625 \nL 49.515625 72.90625 \nL 49.515625 64.59375 \nL 19.828125 64.59375 \nL 19.828125 46.734375 \nQ 21.96875 47.46875 24.109375 47.828125 \nQ 26.265625 48.1875 28.421875 48.1875 \nQ 40.625 48.1875 47.75 41.5 \nQ 54.890625 34.8125 54.890625 23.390625 \nQ 54.890625 11.625 47.5625 5.09375 \nQ 40.234375 -1.421875 26.90625 -1.421875 \nQ 22.3125 -1.421875 17.546875 -0.640625 \nQ 12.796875 0.140625 7.71875 1.703125 \nL 7.71875 11.625 \nQ 12.109375 9.234375 16.796875 8.0625 \nQ 21.484375 6.890625 26.703125 6.890625 \nQ 35.15625 6.890625 40.078125 11.328125 \nQ 45.015625 15.765625 45.015625 23.390625 \nQ 45.015625 31 40.078125 35.4375 \nQ 35.15625 39.890625 26.703125 39.890625 \nQ 22.75 39.890625 18.8125 39.015625 \nQ 14.890625 38.140625 10.796875 36.28125 \nz\n\" id=\"DejaVuSans-53\"/>\n       </defs>\n       <use xlink:href=\"#DejaVuSans-48\"/>\n       <use x=\"63.623047\" xlink:href=\"#DejaVuSans-46\"/>\n       <use x=\"95.410156\" xlink:href=\"#DejaVuSans-50\"/>\n       <use x=\"159.033203\" xlink:href=\"#DejaVuSans-53\"/>\n      </g>\n     </g>\n    </g>\n    <g id=\"ytick_3\">\n     <g id=\"line2d_8\">\n      <g>\n       <use style=\"stroke:#000000;stroke-width:0.8;\" x=\"36.465625\" xlink:href=\"#mec59b90318\" y=\"172.868571\"/>\n      </g>\n     </g>\n     <g id=\"text_8\">\n      <!-- 0.50 -->\n      <g transform=\"translate(7.2 176.66779)scale(0.1 -0.1)\">\n       <use xlink:href=\"#DejaVuSans-48\"/>\n       <use x=\"63.623047\" xlink:href=\"#DejaVuSans-46\"/>\n       <use x=\"95.410156\" xlink:href=\"#DejaVuSans-53\"/>\n       <use x=\"159.033203\" xlink:href=\"#DejaVuSans-48\"/>\n      </g>\n     </g>\n    </g>\n    <g id=\"ytick_4\">\n     <g id=\"line2d_9\">\n      <g>\n       <use style=\"stroke:#000000;stroke-width:0.8;\" x=\"36.465625\" xlink:href=\"#mec59b90318\" y=\"146.982857\"/>\n      </g>\n     </g>\n     <g id=\"text_9\">\n      <!-- 0.75 -->\n      <g transform=\"translate(7.2 150.782076)scale(0.1 -0.1)\">\n       <defs>\n        <path d=\"M 8.203125 72.90625 \nL 55.078125 72.90625 \nL 55.078125 68.703125 \nL 28.609375 0 \nL 18.3125 0 \nL 43.21875 64.59375 \nL 8.203125 64.59375 \nz\n\" id=\"DejaVuSans-55\"/>\n       </defs>\n       <use xlink:href=\"#DejaVuSans-48\"/>\n       <use x=\"63.623047\" xlink:href=\"#DejaVuSans-46\"/>\n       <use x=\"95.410156\" xlink:href=\"#DejaVuSans-55\"/>\n       <use x=\"159.033203\" xlink:href=\"#DejaVuSans-53\"/>\n      </g>\n     </g>\n    </g>\n    <g id=\"ytick_5\">\n     <g id=\"line2d_10\">\n      <g>\n       <use style=\"stroke:#000000;stroke-width:0.8;\" x=\"36.465625\" xlink:href=\"#mec59b90318\" y=\"121.097143\"/>\n      </g>\n     </g>\n     <g id=\"text_10\">\n      <!-- 1.00 -->\n      <g transform=\"translate(7.2 124.896362)scale(0.1 -0.1)\">\n       <use xlink:href=\"#DejaVuSans-49\"/>\n       <use x=\"63.623047\" xlink:href=\"#DejaVuSans-46\"/>\n       <use x=\"95.410156\" xlink:href=\"#DejaVuSans-48\"/>\n       <use x=\"159.033203\" xlink:href=\"#DejaVuSans-48\"/>\n      </g>\n     </g>\n    </g>\n    <g id=\"ytick_6\">\n     <g id=\"line2d_11\">\n      <g>\n       <use style=\"stroke:#000000;stroke-width:0.8;\" x=\"36.465625\" xlink:href=\"#mec59b90318\" y=\"95.211429\"/>\n      </g>\n     </g>\n     <g id=\"text_11\">\n      <!-- 1.25 -->\n      <g transform=\"translate(7.2 99.010647)scale(0.1 -0.1)\">\n       <use xlink:href=\"#DejaVuSans-49\"/>\n       <use x=\"63.623047\" xlink:href=\"#DejaVuSans-46\"/>\n       <use x=\"95.410156\" xlink:href=\"#DejaVuSans-50\"/>\n       <use x=\"159.033203\" xlink:href=\"#DejaVuSans-53\"/>\n      </g>\n     </g>\n    </g>\n    <g id=\"ytick_7\">\n     <g id=\"line2d_12\">\n      <g>\n       <use style=\"stroke:#000000;stroke-width:0.8;\" x=\"36.465625\" xlink:href=\"#mec59b90318\" y=\"69.325714\"/>\n      </g>\n     </g>\n     <g id=\"text_12\">\n      <!-- 1.50 -->\n      <g transform=\"translate(7.2 73.124933)scale(0.1 -0.1)\">\n       <use xlink:href=\"#DejaVuSans-49\"/>\n       <use x=\"63.623047\" xlink:href=\"#DejaVuSans-46\"/>\n       <use x=\"95.410156\" xlink:href=\"#DejaVuSans-53\"/>\n       <use x=\"159.033203\" xlink:href=\"#DejaVuSans-48\"/>\n      </g>\n     </g>\n    </g>\n    <g id=\"ytick_8\">\n     <g id=\"line2d_13\">\n      <g>\n       <use style=\"stroke:#000000;stroke-width:0.8;\" x=\"36.465625\" xlink:href=\"#mec59b90318\" y=\"43.44\"/>\n      </g>\n     </g>\n     <g id=\"text_13\">\n      <!-- 1.75 -->\n      <g transform=\"translate(7.2 47.239219)scale(0.1 -0.1)\">\n       <use xlink:href=\"#DejaVuSans-49\"/>\n       <use x=\"63.623047\" xlink:href=\"#DejaVuSans-46\"/>\n       <use x=\"95.410156\" xlink:href=\"#DejaVuSans-55\"/>\n       <use x=\"159.033203\" xlink:href=\"#DejaVuSans-53\"/>\n      </g>\n     </g>\n    </g>\n    <g id=\"ytick_9\">\n     <g id=\"line2d_14\">\n      <g>\n       <use style=\"stroke:#000000;stroke-width:0.8;\" x=\"36.465625\" xlink:href=\"#mec59b90318\" y=\"17.554286\"/>\n      </g>\n     </g>\n     <g id=\"text_14\">\n      <!-- 2.00 -->\n      <g transform=\"translate(7.2 21.353504)scale(0.1 -0.1)\">\n       <use xlink:href=\"#DejaVuSans-50\"/>\n       <use x=\"63.623047\" xlink:href=\"#DejaVuSans-46\"/>\n       <use x=\"95.410156\" xlink:href=\"#DejaVuSans-48\"/>\n       <use x=\"159.033203\" xlink:href=\"#DejaVuSans-48\"/>\n      </g>\n     </g>\n    </g>\n   </g>\n   <g id=\"patch_75\">\n    <path d=\"M 36.465625 224.64 \nL 36.465625 7.2 \n\" style=\"fill:none;stroke:#000000;stroke-linecap:square;stroke-linejoin:miter;stroke-width:0.8;\"/>\n   </g>\n   <g id=\"patch_76\">\n    <path d=\"M 371.265625 224.64 \nL 371.265625 7.2 \n\" style=\"fill:none;stroke:#000000;stroke-linecap:square;stroke-linejoin:miter;stroke-width:0.8;\"/>\n   </g>\n   <g id=\"patch_77\">\n    <path d=\"M 36.465625 224.64 \nL 371.265625 224.64 \n\" style=\"fill:none;stroke:#000000;stroke-linecap:square;stroke-linejoin:miter;stroke-width:0.8;\"/>\n   </g>\n   <g id=\"patch_78\">\n    <path d=\"M 36.465625 7.2 \nL 371.265625 7.2 \n\" style=\"fill:none;stroke:#000000;stroke-linecap:square;stroke-linejoin:miter;stroke-width:0.8;\"/>\n   </g>\n  </g>\n </g>\n <defs>\n  <clipPath id=\"p5bfc2a90f4\">\n   <rect height=\"217.44\" width=\"334.8\" x=\"36.465625\" y=\"7.2\"/>\n  </clipPath>\n </defs>\n</svg>\n",
      "image/png": "[encoded data removed]"
     },
     "metadata": {
      "needs_background": "light"
     }
    }
   ],
   "source": [
    "plt.bar(df_interruption_minutes.index, df_interruption_minutes['interrupted']);"
   ]
  },
  {
   "cell_type": "markdown",
   "metadata": {},
   "source": [
    "## Making it connectable"
   ]
  },
  {
   "cell_type": "code",
   "execution_count": 14,
   "metadata": {},
   "outputs": [],
   "source": [
    "df = df_interruption_minutes.reset_index(drop=True)"
   ]
  },
  {
   "cell_type": "code",
   "execution_count": 16,
   "metadata": {},
   "outputs": [],
   "source": [
    "values = df.values.tolist()"
   ]
  },
  {
   "cell_type": "code",
   "execution_count": 17,
   "metadata": {},
   "outputs": [],
   "source": [
    "def split_parts(value_list):\n",
    "    \"\"\"Splitting the data of each part\n",
    "    into separate matrices (list of lists)\"\"\"\n",
    "    \n",
    "    parts = [[], [], []]\n",
    "\n",
    "    def check_part(inner):\n",
    "        return inner[1] - 1\n",
    "        \n",
    "    [parts[check_part(inner)].append(inner) for inner in value_list]\n",
    "    \n",
    "    return parts[0], parts[1], parts[2]"
   ]
  },
  {
   "cell_type": "code",
   "execution_count": 18,
   "metadata": {},
   "outputs": [],
   "source": [
    "part1, part2, part3 = split_parts(values)"
   ]
  },
  {
   "cell_type": "code",
   "execution_count": 19,
   "metadata": {},
   "outputs": [],
   "source": [
    "def add_missing(part):\n",
    "    \"\"\"Adding the minutes that have\n",
    "    no interruptions as new rows\"\"\"\n",
    "    \n",
    "    minutes = [inner[0] for inner in part]\n",
    "    \n",
    "    max_num = part[-1][0]  # last row - minute\n",
    "    part_num = part[-1][1]  # last row - part num\n",
    "    \n",
    "    proper = [[i, part_num, 0] for i in range(0, max_num + 1)]\n",
    "    \n",
    "    for inner in part:\n",
    "        proper[inner[0]][2] = inner[2]\n",
    "    \n",
    "    return proper"
   ]
  },
  {
   "cell_type": "code",
   "execution_count": 20,
   "metadata": {},
   "outputs": [],
   "source": [
    "part1, part2, part3 = add_missing(part1), add_missing(part2), add_missing(part3)"
   ]
  },
  {
   "cell_type": "code",
   "execution_count": 21,
   "metadata": {},
   "outputs": [],
   "source": [
    "fixed_parts = part1 + part2 + part3"
   ]
  },
  {
   "cell_type": "code",
   "execution_count": 22,
   "metadata": {},
   "outputs": [],
   "source": [
    "# editing the appropriate minute as if everything was one part\n",
    "for inner in fixed_parts:\n",
    "    if inner[1] == 2:\n",
    "        inner[0] += 30\n",
    "    elif inner[1] == 3:\n",
    "        inner[0] += 70"
   ]
  },
  {
   "cell_type": "code",
   "execution_count": 23,
   "metadata": {},
   "outputs": [],
   "source": [
    "df = pd.DataFrame(fixed_parts, columns=['minute', 'part', 'interruption'])"
   ]
  },
  {
   "cell_type": "code",
   "execution_count": 30,
   "metadata": {},
   "outputs": [],
   "source": [
    "df['timestamp'] = pd.Timestamp('2020-10-22 21:00')\n",
    "df['timestamp'] = df.apply(lambda x: x['timestamp']\n",
    "                           .replace(hour = x['timestamp'].hour + (x['timestamp'].minute + x['minute']) // 60,\n",
    "                                    minute = (x['timestamp'].minute + x['minute']) % 60),\n",
    "                           axis = 1)"
   ]
  },
  {
   "cell_type": "code",
   "execution_count": 31,
   "metadata": {},
   "outputs": [],
   "source": [
    "df.to_csv('../data/interruptions_per_minute_adjusted.csv', index = False)"
   ]
  }
 ],
 "metadata": {
  "kernelspec": {
   "display_name": "Python 3",
   "language": "python",
   "name": "python3"
  }
 },
 "nbformat": 4,
 "nbformat_minor": 2
}