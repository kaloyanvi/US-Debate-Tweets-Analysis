{
 "cells": [
  {
   "cell_type": "code",
   "execution_count": 1,
   "metadata": {
    "scrolled": true
   },
   "outputs": [
    {
     "name": "stderr",
     "output_type": "stream",
     "text": [
      "[nltk_data] Downloading package stopwords to /home/sakce/nltk_data...\n",
      "[nltk_data]   Package stopwords is already up-to-date!\n",
      "[nltk_data] Downloading package punkt to /home/sakce/nltk_data...\n",
      "[nltk_data]   Package punkt is already up-to-date!\n"
     ]
    }
   ],
   "source": [
    "import pandas as pd\n",
    "import numpy as np\n",
    "import matplotlib.pyplot as plt\n",
    "import numpy as np\n",
    "from matplotlib import colors\n",
    "from matplotlib.ticker import PercentFormatter\n",
    "from matplotlib.lines import Line2D\n",
    "from matplotlib.ticker import (MultipleLocator, FormatStrFormatter,\n",
    "                               AutoMinorLocator)\n",
    "\n",
    "\n",
    "from unidecode import unidecode\n",
    "import re\n",
    "import nltk\n",
    "from nltk.corpus import stopwords\n",
    "from nltk.tokenize import word_tokenize\n",
    "from nltk.stem import WordNetLemmatizer, PorterStemmer, SnowballStemmer\n",
    "nltk.download('stopwords')\n",
    "import warnings\n",
    "warnings.filterwarnings('ignore')\n",
    "nltk.download('punkt')\n",
    "from nltk import word_tokenize,sent_tokenize\n",
    "from collections import Counter"
   ]
  },
  {
   "cell_type": "code",
   "execution_count": 2,
   "metadata": {},
   "outputs": [
    {
     "name": "stdout",
     "output_type": "stream",
     "text": [
      "/home/sakce/git/US-Debate-Tweets-Analysis/scripts_notebooks\r\n"
     ]
    }
   ],
   "source": [
    "!pwd"
   ]
  },
  {
   "cell_type": "code",
   "execution_count": 3,
   "metadata": {},
   "outputs": [],
   "source": [
    "df_initial_debate = pd.read_csv(\"../data/us_election_2020_2nd_presidential_debate.csv\")"
   ]
  },
  {
   "cell_type": "code",
   "execution_count": 4,
   "metadata": {},
   "outputs": [],
   "source": [
    "# df_initial_debate = pd.read_csv(\"us_election_2020_2nd_presidential_debate.csv\")\n",
    "\n",
    "# Making new dataframe which wont have repeating speakers that are the same person\n",
    "\n",
    "speakers = []\n",
    "minutes = []\n",
    "texts = []\n",
    "\n",
    "for index in range(len(df_initial_debate)-1):\n",
    "\n",
    "    # debate attributes\n",
    "    speaker = df_initial_debate.iloc[index].speaker\n",
    "    minute = df_initial_debate.iloc[index].minute\n",
    "    current_text = df_initial_debate.iloc[index].text\n",
    "    next_speaker = df_initial_debate.iloc[index+1].speaker\n",
    "    next_text = df_initial_debate.iloc[index+1].text\n",
    "\n",
    "    try:\n",
    "        # checking if the current speaker is the last speaker\n",
    "        if speaker == df_initial_debate.iloc[index-1].speaker:\n",
    "            # checking if the current speaker is also a next speaker\n",
    "            if speaker == next_speaker:\n",
    "                texts[-1] += \" \" + next_text\n",
    "                continue # skipping to next iteration\n",
    "            else:\n",
    "                continue # skipping to next iteration\n",
    "    \n",
    "    except: # avoiding for the first row because there cant be previous speaker\n",
    "            pass \n",
    "    \n",
    "    if speaker == next_speaker: \n",
    "        #  combining the text of the current speaker and next if same\n",
    "        speakers.append(speaker)\n",
    "        minutes.append(minute)\n",
    "        texts.append(current_text + \" \" + next_text)\n",
    "\n",
    "    else:\n",
    "        #  text only of current speaker given next one is different\n",
    "        speakers.append(speaker)\n",
    "        minutes.append(minute)\n",
    "        texts.append(current_text)\n",
    "        \n",
    "debate_data = {\"speaker\":speakers,\"minute\":minutes,\"text\":texts}\n",
    "df_debate = pd.DataFrame(debate_data)\n",
    "df_debate['num_words'] = df_debate['text'].str.split().str.len()\n",
    "df_debate['minute']=pd.to_datetime(df_debate['minute'], format='%M:%S')\n",
    "\n",
    "df_debate_part1 = df_debate[0:73]\n",
    "df_debate_part2 = df_debate[73:310]\n",
    "df_debate_part3 = df_debate[310:]"
   ]
  },
  {
   "cell_type": "code",
   "execution_count": 5,
   "metadata": {},
   "outputs": [],
   "source": [
    "df_debate_part1['time_between']=0\n",
    "df_debate_part1['interrupted']=0\n",
    "for i in range(0, 72):\n",
    "    df_debate_part1['time_between'][i]=(df_debate_part1.iloc[i+1]['minute']-df_debate_part1.iloc[i]['minute']).total_seconds()\n",
    "for i in range(0, 72):\n",
    "    time = (df_debate_part1['time_between'][i]<=60 & df_debate_part1['time_between'][i+1]<=60)\n",
    "    trump_biden = ((df_debate_part1['speaker'][i]=='Donald Trump') & (df_debate_part1['speaker'][i+1]=='Joe Biden'))\n",
    "    biden_trump = ((df_debate_part1['speaker'][i]=='Joe Biden') & (df_debate_part1['speaker'][i+1]=='Donald Trump'))\n",
    "    speakers = (trump_biden | biden_trump)\n",
    "    if (time):\n",
    "        df_debate_part1['interrupted'][i]=1\n",
    "    if (time & speakers):\n",
    "        df_debate_part1['interrupted'][i]=2\n",
    "df_debate_part1['part']=1"
   ]
  },
  {
   "cell_type": "code",
   "execution_count": 6,
   "metadata": {},
   "outputs": [],
   "source": [
    "df_debate_part2 = df_debate_part2.reset_index(drop=True)\n",
    "df_debate_part2['time_between']=0\n",
    "df_debate_part2['interrupted']=0\n",
    "for i in range(0, 236):\n",
    "    df_debate_part2['time_between'][i]=(df_debate_part2.iloc[i+1]['minute']-df_debate_part2.iloc[i]['minute']).total_seconds()\n",
    "for i in range(0, 236):\n",
    "    time = (df_debate_part2['time_between'][i]<=60 & df_debate_part2['time_between'][i+1]<=60)\n",
    "    trump_biden = ((df_debate_part2['speaker'][i]=='Donald Trump') & (df_debate_part2['speaker'][i+1]=='Joe Biden'))\n",
    "    biden_trump = ((df_debate_part2['speaker'][i]=='Joe Biden') & (df_debate_part2['speaker'][i+1]=='Donald Trump'))\n",
    "    speakers = (trump_biden | biden_trump)\n",
    "    if (time):\n",
    "        df_debate_part2['interrupted'][i]=1\n",
    "    if (time & speakers):\n",
    "        df_debate_part2['interrupted'][i]=2\n",
    "df_debate_part2['part']=2"
   ]
  },
  {
   "cell_type": "code",
   "execution_count": 7,
   "metadata": {},
   "outputs": [],
   "source": [
    "df_debate_part3 = df_debate_part3.reset_index(drop=True)\n",
    "df_debate_part3['time_between']=0\n",
    "df_debate_part3['interrupted']=0\n",
    "for i in range(0, 155):\n",
    "    df_debate_part3['time_between'][i]=(df_debate_part3.iloc[i+1]['minute']-df_debate_part3.iloc[i]['minute']).total_seconds()\n",
    "for i in range(0, 155):\n",
    "    time = (df_debate_part3['time_between'][i]<=60 & df_debate_part3['time_between'][i+1]<=60)\n",
    "    trump_biden = ((df_debate_part3['speaker'][i]=='Donald Trump') & (df_debate_part3['speaker'][i+1]=='Joe Biden'))\n",
    "    biden_trump = ((df_debate_part3['speaker'][i]=='Joe Biden') & (df_debate_part3['speaker'][i+1]=='Donald Trump'))\n",
    "    speakers = (trump_biden | biden_trump)\n",
    "    if (time):\n",
    "        df_debate_part3['interrupted'][i]=1\n",
    "    if (time & speakers):\n",
    "        df_debate_part3['interrupted'][i]=2\n",
    "df_debate_part3['part']=3"
   ]
  },
  {
   "cell_type": "code",
   "execution_count": 8,
   "metadata": {},
   "outputs": [
    {
     "data": {
      "text/html": [
       "<div>\n",
       "<style scoped>\n",
       "    .dataframe tbody tr th:only-of-type {\n",
       "        vertical-align: middle;\n",
       "    }\n",
       "\n",
       "    .dataframe tbody tr th {\n",
       "        vertical-align: top;\n",
       "    }\n",
       "\n",
       "    .dataframe thead th {\n",
       "        text-align: right;\n",
       "    }\n",
       "</style>\n",
       "<table border=\"1\" class=\"dataframe\">\n",
       "  <thead>\n",
       "    <tr style=\"text-align: right;\">\n",
       "      <th></th>\n",
       "      <th>speaker</th>\n",
       "      <th>minute</th>\n",
       "      <th>text</th>\n",
       "      <th>num_words</th>\n",
       "      <th>time_between</th>\n",
       "      <th>interrupted</th>\n",
       "      <th>part</th>\n",
       "    </tr>\n",
       "  </thead>\n",
       "  <tbody>\n",
       "    <tr>\n",
       "      <th>0</th>\n",
       "      <td>Kristen Welker</td>\n",
       "      <td>1900-01-01 00:00:18</td>\n",
       "      <td>Good evening, everyone. Good evening. Thank yo...</td>\n",
       "      <td>258</td>\n",
       "      <td>439</td>\n",
       "      <td>0</td>\n",
       "      <td>1</td>\n",
       "    </tr>\n",
       "    <tr>\n",
       "      <th>1</th>\n",
       "      <td>Donald Trump</td>\n",
       "      <td>1900-01-01 00:07:37</td>\n",
       "      <td>How are you doing? How are you?</td>\n",
       "      <td>7</td>\n",
       "      <td>21</td>\n",
       "      <td>0</td>\n",
       "      <td>1</td>\n",
       "    </tr>\n",
       "    <tr>\n",
       "      <th>2</th>\n",
       "      <td>Kristen Welker</td>\n",
       "      <td>1900-01-01 00:07:58</td>\n",
       "      <td>And I do want to say a very good evening to bo...</td>\n",
       "      <td>222</td>\n",
       "      <td>66</td>\n",
       "      <td>0</td>\n",
       "      <td>1</td>\n",
       "    </tr>\n",
       "    <tr>\n",
       "      <th>3</th>\n",
       "      <td>Donald Trump</td>\n",
       "      <td>1900-01-01 00:09:04</td>\n",
       "      <td>So as you know, 2.2 million people modeled out...</td>\n",
       "      <td>365</td>\n",
       "      <td>122</td>\n",
       "      <td>0</td>\n",
       "      <td>1</td>\n",
       "    </tr>\n",
       "    <tr>\n",
       "      <th>4</th>\n",
       "      <td>Kristen Welker</td>\n",
       "      <td>1900-01-01 00:11:06</td>\n",
       "      <td>Okay. Former Vice President Biden to you. How ...</td>\n",
       "      <td>22</td>\n",
       "      <td>7</td>\n",
       "      <td>1</td>\n",
       "      <td>1</td>\n",
       "    </tr>\n",
       "    <tr>\n",
       "      <th>...</th>\n",
       "      <td>...</td>\n",
       "      <td>...</td>\n",
       "      <td>...</td>\n",
       "      <td>...</td>\n",
       "      <td>...</td>\n",
       "      <td>...</td>\n",
       "      <td>...</td>\n",
       "    </tr>\n",
       "    <tr>\n",
       "      <th>461</th>\n",
       "      <td>Kristen Welker</td>\n",
       "      <td>1900-01-01 00:24:30</td>\n",
       "      <td>All right. This is about leadership, gentlemen...</td>\n",
       "      <td>48</td>\n",
       "      <td>17</td>\n",
       "      <td>1</td>\n",
       "      <td>3</td>\n",
       "    </tr>\n",
       "    <tr>\n",
       "      <th>462</th>\n",
       "      <td>Donald Trump</td>\n",
       "      <td>1900-01-01 00:24:47</td>\n",
       "      <td>We have to make our country totally successful...</td>\n",
       "      <td>193</td>\n",
       "      <td>62</td>\n",
       "      <td>0</td>\n",
       "      <td>3</td>\n",
       "    </tr>\n",
       "    <tr>\n",
       "      <th>463</th>\n",
       "      <td>Kristen Welker</td>\n",
       "      <td>1900-01-01 00:25:49</td>\n",
       "      <td>All right. Vice President Biden, same question...</td>\n",
       "      <td>25</td>\n",
       "      <td>8</td>\n",
       "      <td>1</td>\n",
       "      <td>3</td>\n",
       "    </tr>\n",
       "    <tr>\n",
       "      <th>464</th>\n",
       "      <td>Joe Biden</td>\n",
       "      <td>1900-01-01 00:25:57</td>\n",
       "      <td>I will say, I’m an American President. I repre...</td>\n",
       "      <td>174</td>\n",
       "      <td>56</td>\n",
       "      <td>0</td>\n",
       "      <td>3</td>\n",
       "    </tr>\n",
       "    <tr>\n",
       "      <th>465</th>\n",
       "      <td>Kristen Welker</td>\n",
       "      <td>1900-01-01 00:26:53</td>\n",
       "      <td>All right, I want to thank you both for a very...</td>\n",
       "      <td>64</td>\n",
       "      <td>0</td>\n",
       "      <td>0</td>\n",
       "      <td>3</td>\n",
       "    </tr>\n",
       "  </tbody>\n",
       "</table>\n",
       "<p>466 rows × 7 columns</p>\n",
       "</div>"
      ],
      "text/plain": [
       "            speaker              minute  \\\n",
       "0    Kristen Welker 1900-01-01 00:00:18   \n",
       "1      Donald Trump 1900-01-01 00:07:37   \n",
       "2    Kristen Welker 1900-01-01 00:07:58   \n",
       "3      Donald Trump 1900-01-01 00:09:04   \n",
       "4    Kristen Welker 1900-01-01 00:11:06   \n",
       "..              ...                 ...   \n",
       "461  Kristen Welker 1900-01-01 00:24:30   \n",
       "462    Donald Trump 1900-01-01 00:24:47   \n",
       "463  Kristen Welker 1900-01-01 00:25:49   \n",
       "464       Joe Biden 1900-01-01 00:25:57   \n",
       "465  Kristen Welker 1900-01-01 00:26:53   \n",
       "\n",
       "                                                  text  num_words  \\\n",
       "0    Good evening, everyone. Good evening. Thank yo...        258   \n",
       "1                      How are you doing? How are you?          7   \n",
       "2    And I do want to say a very good evening to bo...        222   \n",
       "3    So as you know, 2.2 million people modeled out...        365   \n",
       "4    Okay. Former Vice President Biden to you. How ...         22   \n",
       "..                                                 ...        ...   \n",
       "461  All right. This is about leadership, gentlemen...         48   \n",
       "462  We have to make our country totally successful...        193   \n",
       "463  All right. Vice President Biden, same question...         25   \n",
       "464  I will say, I’m an American President. I repre...        174   \n",
       "465  All right, I want to thank you both for a very...         64   \n",
       "\n",
       "     time_between  interrupted  part  \n",
       "0             439            0     1  \n",
       "1              21            0     1  \n",
       "2              66            0     1  \n",
       "3             122            0     1  \n",
       "4               7            1     1  \n",
       "..            ...          ...   ...  \n",
       "461            17            1     3  \n",
       "462            62            0     3  \n",
       "463             8            1     3  \n",
       "464            56            0     3  \n",
       "465             0            0     3  \n",
       "\n",
       "[466 rows x 7 columns]"
      ]
     },
     "execution_count": 8,
     "metadata": {},
     "output_type": "execute_result"
    }
   ],
   "source": [
    "df_debate_updated = pd.concat([df_debate_part1, df_debate_part2, df_debate_part3])\n",
    "df_debate_updated = df_debate_updated.reset_index(drop=True)\n",
    "df_debate_updated"
   ]
  },
  {
   "cell_type": "code",
   "execution_count": 9,
   "metadata": {},
   "outputs": [],
   "source": [
    "for i in range(0, len(df_debate_updated)):\n",
    "    if (df_debate_updated['minute'][i].second>30):\n",
    "        df_debate_updated['minute'][i]=df_debate_updated['minute'][i].minute + 1\n",
    "    else:\n",
    "        df_debate_updated['minute'][i]=df_debate_updated['minute'][i].minute"
   ]
  },
  {
   "cell_type": "code",
   "execution_count": 10,
   "metadata": {},
   "outputs": [],
   "source": [
    "df_debate_interruptions = df_debate_updated[(df_debate_updated['interrupted']==2) | (df_debate_updated['interrupted']==1)]"
   ]
  },
  {
   "cell_type": "code",
   "execution_count": 11,
   "metadata": {},
   "outputs": [],
   "source": [
    "df_interruption_minutes = df_debate_interruptions[['minute','part', 'interrupted']]"
   ]
  },
  {
   "cell_type": "markdown",
   "metadata": {},
   "source": [
    "### If in a minute there is interruption score 1 and interruption score 2, we only keep 2"
   ]
  },
  {
   "cell_type": "code",
   "execution_count": 12,
   "metadata": {
    "scrolled": true
   },
   "outputs": [
    {
     "data": {
      "text/html": [
       "<div>\n",
       "<style scoped>\n",
       "    .dataframe tbody tr th:only-of-type {\n",
       "        vertical-align: middle;\n",
       "    }\n",
       "\n",
       "    .dataframe tbody tr th {\n",
       "        vertical-align: top;\n",
       "    }\n",
       "\n",
       "    .dataframe thead th {\n",
       "        text-align: right;\n",
       "    }\n",
       "</style>\n",
       "<table border=\"1\" class=\"dataframe\">\n",
       "  <thead>\n",
       "    <tr style=\"text-align: right;\">\n",
       "      <th></th>\n",
       "      <th>minute</th>\n",
       "      <th>part</th>\n",
       "      <th>interrupted</th>\n",
       "    </tr>\n",
       "  </thead>\n",
       "  <tbody>\n",
       "    <tr>\n",
       "      <th>4</th>\n",
       "      <td>11</td>\n",
       "      <td>1</td>\n",
       "      <td>1</td>\n",
       "    </tr>\n",
       "    <tr>\n",
       "      <th>8</th>\n",
       "      <td>13</td>\n",
       "      <td>1</td>\n",
       "      <td>1</td>\n",
       "    </tr>\n",
       "    <tr>\n",
       "      <th>10</th>\n",
       "      <td>14</td>\n",
       "      <td>1</td>\n",
       "      <td>1</td>\n",
       "    </tr>\n",
       "    <tr>\n",
       "      <th>14</th>\n",
       "      <td>15</td>\n",
       "      <td>1</td>\n",
       "      <td>1</td>\n",
       "    </tr>\n",
       "    <tr>\n",
       "      <th>16</th>\n",
       "      <td>16</td>\n",
       "      <td>1</td>\n",
       "      <td>1</td>\n",
       "    </tr>\n",
       "    <tr>\n",
       "      <th>...</th>\n",
       "      <td>...</td>\n",
       "      <td>...</td>\n",
       "      <td>...</td>\n",
       "    </tr>\n",
       "    <tr>\n",
       "      <th>419</th>\n",
       "      <td>21</td>\n",
       "      <td>3</td>\n",
       "      <td>2</td>\n",
       "    </tr>\n",
       "    <tr>\n",
       "      <th>424</th>\n",
       "      <td>22</td>\n",
       "      <td>3</td>\n",
       "      <td>1</td>\n",
       "    </tr>\n",
       "    <tr>\n",
       "      <th>431</th>\n",
       "      <td>23</td>\n",
       "      <td>3</td>\n",
       "      <td>2</td>\n",
       "    </tr>\n",
       "    <tr>\n",
       "      <th>442</th>\n",
       "      <td>24</td>\n",
       "      <td>3</td>\n",
       "      <td>2</td>\n",
       "    </tr>\n",
       "    <tr>\n",
       "      <th>463</th>\n",
       "      <td>26</td>\n",
       "      <td>3</td>\n",
       "      <td>1</td>\n",
       "    </tr>\n",
       "  </tbody>\n",
       "</table>\n",
       "<p>72 rows × 3 columns</p>\n",
       "</div>"
      ],
      "text/plain": [
       "    minute  part  interrupted\n",
       "4       11     1            1\n",
       "8       13     1            1\n",
       "10      14     1            1\n",
       "14      15     1            1\n",
       "16      16     1            1\n",
       "..     ...   ...          ...\n",
       "419     21     3            2\n",
       "424     22     3            1\n",
       "431     23     3            2\n",
       "442     24     3            2\n",
       "463     26     3            1\n",
       "\n",
       "[72 rows x 3 columns]"
      ]
     },
     "execution_count": 12,
     "metadata": {},
     "output_type": "execute_result"
    }
   ],
   "source": [
    "df_interruption_minutes = df_interruption_minutes.sort_values(by=['part', 'minute', 'interrupted'], ascending=False)\n",
    "df_interruption_minutes = df_interruption_minutes.drop_duplicates(subset=['minute', 'part'])\n",
    "df_interruption_minutes = df_interruption_minutes.sort_values(by=['part', 'minute'])\n",
    "df_interruption_minutes"
   ]
  },
  {
   "cell_type": "code",
   "execution_count": 13,
   "metadata": {},
   "outputs": [
    {
     "data": {
      "image/png": "[encoded data removed]",
      "text/plain": [
       "<Figure size 432x288 with 1 Axes>"
      ]
     },
     "metadata": {
      "needs_background": "light"
     },
     "output_type": "display_data"
    }
   ],
   "source": [
    "plt.bar(df_interruption_minutes.index, df_interruption_minutes['interrupted']);"
   ]
  },
  {
   "cell_type": "markdown",
   "metadata": {},
   "source": [
    "## Making it connectable"
   ]
  },
  {
   "cell_type": "code",
   "execution_count": 14,
   "metadata": {},
   "outputs": [],
   "source": [
    "df = df_interruption_minutes.reset_index(drop=True)"
   ]
  },
  {
   "cell_type": "code",
   "execution_count": 15,
   "metadata": {},
   "outputs": [],
   "source": [
    "values = df.values.tolist()"
   ]
  },
  {
   "cell_type": "code",
   "execution_count": 16,
   "metadata": {},
   "outputs": [],
   "source": [
    "def split_parts(value_list):\n",
    "    \n",
    "    parts = [[], [], []]\n",
    "\n",
    "    def check_part(inner):\n",
    "        return inner[1] - 1\n",
    "        \n",
    "    [parts[check_part(inner)].append(inner) for inner in value_list]\n",
    "    \n",
    "    return parts[0], parts[1], parts[2]"
   ]
  },
  {
   "cell_type": "code",
   "execution_count": 17,
   "metadata": {},
   "outputs": [],
   "source": [
    "part1, part2, part3 = split_parts(values)"
   ]
  },
  {
   "cell_type": "code",
   "execution_count": 18,
   "metadata": {},
   "outputs": [],
   "source": [
    "def add_missing(part):\n",
    "    \n",
    "    minutes = [inner[0] for inner in part]\n",
    "    \n",
    "    max_num = part[-1][0]\n",
    "    part_num = part[-1][1]\n",
    "    \n",
    "    proper = [[i, part_num, 0] for i in range(0, max_num + 1)]\n",
    "    \n",
    "    for inner in part:\n",
    "        proper[inner[0]][2] = inner[2]\n",
    "    \n",
    "    return proper"
   ]
  },
  {
   "cell_type": "code",
   "execution_count": 19,
   "metadata": {},
   "outputs": [],
   "source": [
    "part1, part2, part3 = add_missing(part1), add_missing(part2), add_missing(part3)"
   ]
  },
  {
   "cell_type": "code",
   "execution_count": 20,
   "metadata": {},
   "outputs": [],
   "source": [
    "fixed_parts = part1 + part2 + part3"
   ]
  },
  {
   "cell_type": "code",
   "execution_count": 21,
   "metadata": {},
   "outputs": [],
   "source": [
    "for inner in fixed_parts:\n",
    "    if inner[1] == 2:\n",
    "        inner[0] += 30\n",
    "    elif inner[1] == 3:\n",
    "        inner[0] += 70"
   ]
  },
  {
   "cell_type": "code",
   "execution_count": 22,
   "metadata": {},
   "outputs": [],
   "source": [
    "fixed_parts = part1 + part2 + part3\n",
    "\n",
    "df = pd.DataFrame(fixed_parts, columns=['minute', 'part', 'interruption'])"
   ]
  },
  {
   "cell_type": "code",
   "execution_count": 23,
   "metadata": {},
   "outputs": [],
   "source": [
    "df['timestamp'] = pd.Timestamp('2020-10-22 20:30')\n",
    "df['timestamp'] = df.apply(lambda x: x['timestamp']\n",
    "                           .replace(hour = x['timestamp'].hour + (x['timestamp'].minute + x['minute']) // 60,\n",
    "                                    minute = (x['timestamp'].minute + x['minute']) % 60),\n",
    "                           axis = 1)"
   ]
  },
  {
   "cell_type": "code",
   "execution_count": 24,
   "metadata": {},
   "outputs": [
    {
     "name": "stdout",
     "output_type": "stream",
     "text": [
      "/home/sakce/git/US-Debate-Tweets-Analysis/scripts_notebooks\r\n"
     ]
    }
   ],
   "source": [
    "!pwd"
   ]
  },
  {
   "cell_type": "code",
   "execution_count": 25,
   "metadata": {},
   "outputs": [],
   "source": [
    "df.to_csv('../data/interruptions_per_minute_adjusted.csv', index = False)"
   ]
  },
  {
   "cell_type": "code",
   "execution_count": null,
   "metadata": {},
   "outputs": [],
   "source": []
  }
 ],
 "metadata": {
  "kernelspec": {
   "display_name": "dcvenv",
   "language": "python",
   "name": "dcvenv"
  },
  "language_info": {
   "codemirror_mode": {
    "name": "ipython",
    "version": 3
   },
   "file_extension": ".py",
   "mimetype": "text/x-python",
   "name": "python",
   "nbconvert_exporter": "python",
   "pygments_lexer": "ipython3",
   "version": "3.8.2"
  }
 },
 "nbformat": 4,
 "nbformat_minor": 2
}
