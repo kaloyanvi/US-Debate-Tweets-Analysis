{
 "metadata": {
  "language_info": {
   "codemirror_mode": {
    "name": "ipython",
    "version": 3
   },
   "file_extension": ".py",
   "mimetype": "text/x-python",
   "name": "python",
   "nbconvert_exporter": "python",
   "pygments_lexer": "ipython3",
   "version": "3.8.6-final"
  },
  "orig_nbformat": 2,
  "kernelspec": {
   "name": "python3",
   "display_name": "Python 3",
   "language": "python"
  }
 },
 "nbformat": 4,
 "nbformat_minor": 2,
 "cells": [
  {
   "cell_type": "code",
   "execution_count": 1,
   "metadata": {},
   "outputs": [],
   "source": [
    "import os\n",
    "import re\n",
    "import numpy as np\n",
    "import pandas as pd\n",
    "import tensorflow as tf\n",
    "from tensorflow import keras\n",
    "from debate_preprocessing import preprocessingDebate\n",
    "from tweets_preprocessing import preprocess_data"
   ]
  },
  {
   "source": [
    "## 1. Loading the RNN model"
   ],
   "cell_type": "markdown",
   "metadata": {}
  },
  {
   "cell_type": "code",
   "execution_count": 2,
   "metadata": {},
   "outputs": [],
   "source": [
    "model = tf.keras.models.load_model(\"../models/sentiment\")"
   ]
  },
  {
   "cell_type": "code",
   "execution_count": 3,
   "metadata": {},
   "outputs": [
    {
     "output_type": "stream",
     "name": "stdout",
     "text": [
      "Model: \"sequential\"\n_________________________________________________________________\nLayer (type)                 Output Shape              Param #   \n=================================================================\ntext_vectorization (TextVect (None, None)              0         \n_________________________________________________________________\nembedding (Embedding)        (None, None, 64)          64000     \n_________________________________________________________________\nbidirectional (Bidirectional (None, None, 128)         66048     \n_________________________________________________________________\nbidirectional_1 (Bidirection (None, 64)                41216     \n_________________________________________________________________\ndense (Dense)                (None, 64)                4160      \n_________________________________________________________________\ndropout (Dropout)            (None, 64)                0         \n_________________________________________________________________\ndense_1 (Dense)              (None, 1)                 65        \n=================================================================\nTotal params: 175,489\nTrainable params: 175,489\nNon-trainable params: 0\n_________________________________________________________________\n"
     ]
    }
   ],
   "source": [
    "model.summary()"
   ]
  },
  {
   "source": [
    "## 2. Loading the data"
   ],
   "cell_type": "markdown",
   "metadata": {}
  },
  {
   "cell_type": "code",
   "execution_count": 4,
   "metadata": {},
   "outputs": [],
   "source": [
    "df_debate = preprocessingDebate(\"../data/us_election_2020_2nd_presidential_debate.csv\")"
   ]
  },
  {
   "cell_type": "code",
   "execution_count": 5,
   "metadata": {},
   "outputs": [
    {
     "output_type": "stream",
     "name": "stdout",
     "text": [
      "Preprocessing started!\n",
      "\n",
      "Data has been loaded!\n",
      "\n",
      "Dates have been transformed to datetime objects!\n",
      "\n",
      "Selecting only the tweets duting the debate.\n",
      "\n",
      "Data preprocessing complete! New .csv has been created /data/debate_tweets.csv\n",
      "--- 4.964344501495361 seconds ---\n",
      "Preprocessing started!\n",
      "\n",
      "Data has been loaded!\n",
      "\n",
      "Dates have been transformed to datetime objects!\n",
      "\n",
      "Selecting only the tweets duting the debate.\n",
      "\n",
      "Data preprocessing complete! New .csv has been created /data/debate_tweets.csv\n",
      "--- 3.91351318359375 seconds ---\n"
     ]
    }
   ],
   "source": [
    "trump_file = \"../data/hashtag_donaldtrump.csv\"\n",
    "biden_file = \"../data/hashtag_joebiden.csv\"\n",
    "\n",
    "df_trump = preprocess_data(trump_file)\n",
    "df_biden = preprocess_data(biden_file)"
   ]
  },
  {
   "source": [
    "## 3. Making predictions"
   ],
   "cell_type": "markdown",
   "metadata": {}
  },
  {
   "source": [
    "### 3.1 Debate"
   ],
   "cell_type": "markdown",
   "metadata": {}
  },
  {
   "cell_type": "code",
   "execution_count": 6,
   "metadata": {
    "tags": []
   },
   "outputs": [],
   "source": [
    "sentiment_predictions = []\n",
    "for row_ind in range(len(df_debate)):\n",
    "    \n",
    "    text = np.array([str(df_debate.iloc[row_ind].text)])\n",
    "    prediction = model.predict(text)\n",
    "    sentiment_predictions.append(round(prediction[0][0], 3))\n",
    "    \n",
    "df_debate['sentiment_score'] = sentiment_predictions"
   ]
  },
  {
   "cell_type": "code",
   "execution_count": 7,
   "metadata": {},
   "outputs": [
    {
     "output_type": "execute_result",
     "data": {
      "text/plain": [
       "            speaker              minute  \\\n",
       "0    Kristen Welker 1900-01-01 00:00:18   \n",
       "1      Donald Trump 1900-01-01 00:07:37   \n",
       "2    Kristen Welker 1900-01-01 00:07:58   \n",
       "3      Donald Trump 1900-01-01 00:09:04   \n",
       "4    Kristen Welker 1900-01-01 00:11:06   \n",
       "..              ...                 ...   \n",
       "461  Kristen Welker 1900-01-01 00:24:30   \n",
       "462    Donald Trump 1900-01-01 00:24:47   \n",
       "463  Kristen Welker 1900-01-01 00:25:49   \n",
       "464       Joe Biden 1900-01-01 00:25:57   \n",
       "465  Kristen Welker 1900-01-01 00:26:53   \n",
       "\n",
       "                                                  text  num_words  \\\n",
       "0    Good evening, everyone. Good evening. Thank yo...        258   \n",
       "1                      How are you doing? How are you?          7   \n",
       "2    And I do want to say a very good evening to bo...        222   \n",
       "3    So as you know, 2.2 million people modeled out...        365   \n",
       "4    Okay. Former Vice President Biden to you. How ...         22   \n",
       "..                                                 ...        ...   \n",
       "461  All right. This is about leadership, gentlemen...         48   \n",
       "462  We have to make our country totally successful...        193   \n",
       "463  All right. Vice President Biden, same question...         25   \n",
       "464  I will say, I’m an American President. I repre...        174   \n",
       "465  All right, I want to thank you both for a very...         64   \n",
       "\n",
       "     time_between  interrupted  sentiment_score  \n",
       "0             439            0            0.332  \n",
       "1              21            0            0.126  \n",
       "2              66            0           -0.216  \n",
       "3             122            0            1.566  \n",
       "4               7            1           -1.372  \n",
       "..            ...          ...              ...  \n",
       "461             0            0            1.905  \n",
       "462             0            0            3.753  \n",
       "463             0            0            0.585  \n",
       "464             0            0            0.993  \n",
       "465             0            0            3.912  \n",
       "\n",
       "[466 rows x 7 columns]"
      ],
      "text/html": "<div>\n<style scoped>\n    .dataframe tbody tr th:only-of-type {\n        vertical-align: middle;\n    }\n\n    .dataframe tbody tr th {\n        vertical-align: top;\n    }\n\n    .dataframe thead th {\n        text-align: right;\n    }\n</style>\n<table border=\"1\" class=\"dataframe\">\n  <thead>\n    <tr style=\"text-align: right;\">\n      <th></th>\n      <th>speaker</th>\n      <th>minute</th>\n      <th>text</th>\n      <th>num_words</th>\n      <th>time_between</th>\n      <th>interrupted</th>\n      <th>sentiment_score</th>\n    </tr>\n  </thead>\n  <tbody>\n    <tr>\n      <th>0</th>\n      <td>Kristen Welker</td>\n      <td>1900-01-01 00:00:18</td>\n      <td>Good evening, everyone. Good evening. Thank yo...</td>\n      <td>258</td>\n      <td>439</td>\n      <td>0</td>\n      <td>0.332</td>\n    </tr>\n    <tr>\n      <th>1</th>\n      <td>Donald Trump</td>\n      <td>1900-01-01 00:07:37</td>\n      <td>How are you doing? How are you?</td>\n      <td>7</td>\n      <td>21</td>\n      <td>0</td>\n      <td>0.126</td>\n    </tr>\n    <tr>\n      <th>2</th>\n      <td>Kristen Welker</td>\n      <td>1900-01-01 00:07:58</td>\n      <td>And I do want to say a very good evening to bo...</td>\n      <td>222</td>\n      <td>66</td>\n      <td>0</td>\n      <td>-0.216</td>\n    </tr>\n    <tr>\n      <th>3</th>\n      <td>Donald Trump</td>\n      <td>1900-01-01 00:09:04</td>\n      <td>So as you know, 2.2 million people modeled out...</td>\n      <td>365</td>\n      <td>122</td>\n      <td>0</td>\n      <td>1.566</td>\n    </tr>\n    <tr>\n      <th>4</th>\n      <td>Kristen Welker</td>\n      <td>1900-01-01 00:11:06</td>\n      <td>Okay. Former Vice President Biden to you. How ...</td>\n      <td>22</td>\n      <td>7</td>\n      <td>1</td>\n      <td>-1.372</td>\n    </tr>\n    <tr>\n      <th>...</th>\n      <td>...</td>\n      <td>...</td>\n      <td>...</td>\n      <td>...</td>\n      <td>...</td>\n      <td>...</td>\n      <td>...</td>\n    </tr>\n    <tr>\n      <th>461</th>\n      <td>Kristen Welker</td>\n      <td>1900-01-01 00:24:30</td>\n      <td>All right. This is about leadership, gentlemen...</td>\n      <td>48</td>\n      <td>0</td>\n      <td>0</td>\n      <td>1.905</td>\n    </tr>\n    <tr>\n      <th>462</th>\n      <td>Donald Trump</td>\n      <td>1900-01-01 00:24:47</td>\n      <td>We have to make our country totally successful...</td>\n      <td>193</td>\n      <td>0</td>\n      <td>0</td>\n      <td>3.753</td>\n    </tr>\n    <tr>\n      <th>463</th>\n      <td>Kristen Welker</td>\n      <td>1900-01-01 00:25:49</td>\n      <td>All right. Vice President Biden, same question...</td>\n      <td>25</td>\n      <td>0</td>\n      <td>0</td>\n      <td>0.585</td>\n    </tr>\n    <tr>\n      <th>464</th>\n      <td>Joe Biden</td>\n      <td>1900-01-01 00:25:57</td>\n      <td>I will say, I’m an American President. I repre...</td>\n      <td>174</td>\n      <td>0</td>\n      <td>0</td>\n      <td>0.993</td>\n    </tr>\n    <tr>\n      <th>465</th>\n      <td>Kristen Welker</td>\n      <td>1900-01-01 00:26:53</td>\n      <td>All right, I want to thank you both for a very...</td>\n      <td>64</td>\n      <td>0</td>\n      <td>0</td>\n      <td>3.912</td>\n    </tr>\n  </tbody>\n</table>\n<p>466 rows × 7 columns</p>\n</div>"
     },
     "metadata": {},
     "execution_count": 7
    }
   ],
   "source": [
    "df_debate"
   ]
  },
  {
   "source": [
    "### 3.2 Tweets"
   ],
   "cell_type": "markdown",
   "metadata": {}
  },
  {
   "cell_type": "code",
   "execution_count": 8,
   "metadata": {
    "tags": []
   },
   "outputs": [],
   "source": [
    "trump_sentiment = []\n",
    "for row_ind in range(len(df_trump)):\n",
    "\n",
    "    #  stripping tweets of @tags, #hashtags and links\n",
    "    format_tweet = ' '.join(re.sub(\"(@[A-Za-z0-9]+)|([^0-9A-Za-z \\t])|(\\w+:\\/\\/\\S+)\",\" \",df_trump.iloc[row_ind].tweet).split())\n",
    "    text = np.array([format_tweet])\n",
    "    prediction = model.predict(text)\n",
    "    trump_sentiment.append(round(prediction[0][0], 3))\n",
    "    \n",
    "df_trump['sentiment_score'] = trump_sentiment"
   ]
  },
  {
   "cell_type": "code",
   "execution_count": 9,
   "metadata": {},
   "outputs": [],
   "source": [
    "biden_sentiment = []\n",
    "for row_ind in range(len(df_biden)):\n",
    "\n",
    "    #  stripping tweets of @tags, #hashtags and links\n",
    "    format_tweet = ' '.join(re.sub(\"(@[A-Za-z0-9]+)|([^0-9A-Za-z \\t])|(\\w+:\\/\\/\\S+)\",\" \",df_biden.iloc[row_ind].tweet).split())\n",
    "    text = np.array([format_tweet])\n",
    "    prediction = model.predict(text)\n",
    "    biden_sentiment.append(round(prediction[0][0], 3))\n",
    "    \n",
    "df_biden['sentiment_score'] = biden_sentiment"
   ]
  },
  {
   "source": [
    "## 4. Exporting the files"
   ],
   "cell_type": "markdown",
   "metadata": {}
  },
  {
   "cell_type": "code",
   "execution_count": 10,
   "metadata": {},
   "outputs": [],
   "source": [
    "df_trump.to_csv(\"../data/trump_tweets_preprocessed.csv\", index=False)\n",
    "df_biden.to_csv(\"../data/biden_tweets_preprocessed.csv\", index=False)\n",
    "df_debate.to_csv(\"../data/debate_preprocessed.csv\", index=False)"
   ]
  }
 ]
}