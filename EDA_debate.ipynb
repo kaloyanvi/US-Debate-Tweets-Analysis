{
 "metadata": {
  "language_info": {
   "codemirror_mode": {
    "name": "ipython",
    "version": 3
   },
   "file_extension": ".py",
   "mimetype": "text/x-python",
   "name": "python",
   "nbconvert_exporter": "python",
   "pygments_lexer": "ipython3",
   "version": "3.8.5-final"
  },
  "orig_nbformat": 2,
  "kernelspec": {
   "name": "python3",
   "display_name": "Python 3"
  }
 },
 "nbformat": 4,
 "nbformat_minor": 2,
 "cells": [
  {
   "cell_type": "code",
   "execution_count": 1,
   "metadata": {},
   "outputs": [],
   "source": [
    "import pandas as pd\n",
    "import matplotlib.pyplot as plt\n",
    "from data_preprocessing import preprocess_data"
   ]
  },
  {
   "cell_type": "code",
   "execution_count": 2,
   "metadata": {},
   "outputs": [
    {
     "output_type": "stream",
     "name": "stdout",
     "text": [
      "Preprocessing started!\n",
      "\n",
      "Data has been loaded!\n",
      "\n",
      "Only the English Tweets have been selected.\n",
      "\n",
      "The total amount of Tweets is 24201654, where 89.99 percent are written in English.\n",
      "\n",
      "Dates have been transformed to datetime objects!\n",
      "\n",
      "Selecting only the tweets duting the debate.\n",
      "\n",
      "Data preprocessing complete! New .csv has been created /data/debate_tweets.csv\n",
      "--- 27.404372692108154 seconds ---\n"
     ]
    }
   ],
   "source": [
    "debate_data = preprocess_data(\"data/uselection_tweets_1jul_11nov.csv\")"
   ]
  },
  {
   "cell_type": "code",
   "execution_count": 3,
   "metadata": {},
   "outputs": [],
   "source": [
    "debate_data_5mins = debate_data[[\"Created-At\", \"Score\", \"Negativity\", \"Positivity\"]].set_index(\"Created-At\")\n",
    "debate_data_5mins = debate_data_5mins.resample(\"5T\").mean()"
   ]
  },
  {
   "cell_type": "code",
   "execution_count": 4,
   "metadata": {},
   "outputs": [
    {
     "output_type": "execute_result",
     "data": {
      "text/plain": [
       "array(['2020-09-29T21:05:00.000000000', '2020-09-29T21:06:00.000000000',\n",
       "       '2020-09-29T22:06:00.000000000', '2020-09-29T22:07:00.000000000',\n",
       "       '2020-09-29T22:08:00.000000000'], dtype='datetime64[ns]')"
      ]
     },
     "metadata": {},
     "execution_count": 4
    }
   ],
   "source": [
    "debate_data['Created-At'].unique()"
   ]
  },
  {
   "cell_type": "code",
   "execution_count": 5,
   "metadata": {},
   "outputs": [
    {
     "output_type": "execute_result",
     "data": {
      "text/plain": [
       "                        Score  Negativity  Positivity\n",
       "Created-At                                           \n",
       "2020-09-29 21:05:00  0.035252    0.417202    0.452454\n",
       "2020-09-29 21:10:00       NaN         NaN         NaN\n",
       "2020-09-29 21:15:00       NaN         NaN         NaN\n",
       "2020-09-29 21:20:00       NaN         NaN         NaN\n",
       "2020-09-29 21:25:00       NaN         NaN         NaN\n",
       "2020-09-29 21:30:00       NaN         NaN         NaN\n",
       "2020-09-29 21:35:00       NaN         NaN         NaN\n",
       "2020-09-29 21:40:00       NaN         NaN         NaN\n",
       "2020-09-29 21:45:00       NaN         NaN         NaN\n",
       "2020-09-29 21:50:00       NaN         NaN         NaN\n",
       "2020-09-29 21:55:00       NaN         NaN         NaN\n",
       "2020-09-29 22:00:00       NaN         NaN         NaN\n",
       "2020-09-29 22:05:00  0.002071    0.433109    0.435180"
      ],
      "text/html": "<div>\n<style scoped>\n    .dataframe tbody tr th:only-of-type {\n        vertical-align: middle;\n    }\n\n    .dataframe tbody tr th {\n        vertical-align: top;\n    }\n\n    .dataframe thead th {\n        text-align: right;\n    }\n</style>\n<table border=\"1\" class=\"dataframe\">\n  <thead>\n    <tr style=\"text-align: right;\">\n      <th></th>\n      <th>Score</th>\n      <th>Negativity</th>\n      <th>Positivity</th>\n    </tr>\n    <tr>\n      <th>Created-At</th>\n      <th></th>\n      <th></th>\n      <th></th>\n    </tr>\n  </thead>\n  <tbody>\n    <tr>\n      <th>2020-09-29 21:05:00</th>\n      <td>0.035252</td>\n      <td>0.417202</td>\n      <td>0.452454</td>\n    </tr>\n    <tr>\n      <th>2020-09-29 21:10:00</th>\n      <td>NaN</td>\n      <td>NaN</td>\n      <td>NaN</td>\n    </tr>\n    <tr>\n      <th>2020-09-29 21:15:00</th>\n      <td>NaN</td>\n      <td>NaN</td>\n      <td>NaN</td>\n    </tr>\n    <tr>\n      <th>2020-09-29 21:20:00</th>\n      <td>NaN</td>\n      <td>NaN</td>\n      <td>NaN</td>\n    </tr>\n    <tr>\n      <th>2020-09-29 21:25:00</th>\n      <td>NaN</td>\n      <td>NaN</td>\n      <td>NaN</td>\n    </tr>\n    <tr>\n      <th>2020-09-29 21:30:00</th>\n      <td>NaN</td>\n      <td>NaN</td>\n      <td>NaN</td>\n    </tr>\n    <tr>\n      <th>2020-09-29 21:35:00</th>\n      <td>NaN</td>\n      <td>NaN</td>\n      <td>NaN</td>\n    </tr>\n    <tr>\n      <th>2020-09-29 21:40:00</th>\n      <td>NaN</td>\n      <td>NaN</td>\n      <td>NaN</td>\n    </tr>\n    <tr>\n      <th>2020-09-29 21:45:00</th>\n      <td>NaN</td>\n      <td>NaN</td>\n      <td>NaN</td>\n    </tr>\n    <tr>\n      <th>2020-09-29 21:50:00</th>\n      <td>NaN</td>\n      <td>NaN</td>\n      <td>NaN</td>\n    </tr>\n    <tr>\n      <th>2020-09-29 21:55:00</th>\n      <td>NaN</td>\n      <td>NaN</td>\n      <td>NaN</td>\n    </tr>\n    <tr>\n      <th>2020-09-29 22:00:00</th>\n      <td>NaN</td>\n      <td>NaN</td>\n      <td>NaN</td>\n    </tr>\n    <tr>\n      <th>2020-09-29 22:05:00</th>\n      <td>0.002071</td>\n      <td>0.433109</td>\n      <td>0.435180</td>\n    </tr>\n  </tbody>\n</table>\n</div>"
     },
     "metadata": {},
     "execution_count": 5
    }
   ],
   "source": [
    "debate_data_5mins"
   ]
  }
 ]
}