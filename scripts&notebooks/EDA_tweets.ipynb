{
 "metadata": {
  "language_info": {
   "codemirror_mode": {
    "name": "ipython",
    "version": 3
   },
   "file_extension": ".py",
   "mimetype": "text/x-python",
   "name": "python",
   "nbconvert_exporter": "python",
   "pygments_lexer": "ipython3",
   "version": "3.8.5-final"
  },
  "orig_nbformat": 2,
  "kernelspec": {
   "name": "python3",
   "display_name": "Python 3"
  }
 },
 "nbformat": 4,
 "nbformat_minor": 2,
 "cells": [
  {
   "cell_type": "code",
   "execution_count": 1,
   "metadata": {},
   "outputs": [],
   "source": [
    "import pandas as pd\n",
    "import matplotlib.pyplot as plt\n",
    "from data_preprocessing import preprocess_data\n",
    "from datetime import datetime as dt"
   ]
  },
  {
   "cell_type": "code",
   "execution_count": 2,
   "metadata": {},
   "outputs": [],
   "source": [
    "trump_file = \"../data/hashtag_donaldtrump.csv\"\n",
    "biden_file = \"../data/hashtag_joebiden.csv\""
   ]
  },
  {
   "cell_type": "code",
   "execution_count": 3,
   "metadata": {},
   "outputs": [
    {
     "output_type": "stream",
     "name": "stdout",
     "text": [
      "Preprocessing started!\n",
      "\n",
      "Data has been loaded!\n",
      "\n",
      "Dates have been transformed to datetime objects!\n",
      "\n",
      "Selecting only the tweets duting the debate.\n",
      "\n",
      "Data preprocessing complete! New .csv has been created /data/debate_tweets.csv\n",
      "--- 5.075982332229614 seconds ---\n"
     ]
    }
   ],
   "source": [
    "df_trump = preprocess_data(trump_file)"
   ]
  },
  {
   "cell_type": "code",
   "execution_count": 4,
   "metadata": {},
   "outputs": [
    {
     "output_type": "stream",
     "name": "stdout",
     "text": [
      "Preprocessing started!\n",
      "\n",
      "Data has been loaded!\n",
      "\n",
      "Dates have been transformed to datetime objects!\n",
      "\n",
      "Selecting only the tweets duting the debate.\n",
      "\n",
      "Data preprocessing complete! New .csv has been created /data/debate_tweets.csv\n",
      "--- 4.231914043426514 seconds ---\n"
     ]
    }
   ],
   "source": [
    "df_biden = preprocess_data(biden_file)"
   ]
  },
  {
   "cell_type": "code",
   "execution_count": 5,
   "metadata": {},
   "outputs": [],
   "source": [
    "# Probably not needed for now since we dont have sentiment yet\n",
    "temp_trump_5mins = df_trump.set_index(\"created_at\")\n",
    "df_trump_5mins = temp_trump_5mins.resample(\"5T\").mean()\n",
    "\n",
    "temp_biden_5mins = df_biden.set_index(\"created_at\")\n",
    "df_biden_5mins = temp_biden_5mins.resample(\"5T\").mean()"
   ]
  }
 ]
}